{
 "cells": [
  {
   "cell_type": "markdown",
   "metadata": {},
   "source": [
    "The following cell loads in all the libraries that we previously installed; this makes it so that we can access the functions in these libraries instead of having to code these capabilities from scratch."
   ]
  },
  {
   "cell_type": "code",
   "execution_count": 1,
   "metadata": {},
   "outputs": [],
   "source": [
    "Type=\"GENERATE\"\n",
    "from subprocess import Popen\n",
    "exec(open(\"../helperFunctions.py\",\"rb\").read())"
   ]
  },
  {
   "cell_type": "markdown",
   "metadata": {},
   "source": [
    "The next cell defines the folder paths to both the source folder where the audio is stored and the folder where the generated images should go."
   ]
  },
  {
   "cell_type": "code",
   "execution_count": 2,
   "metadata": {},
   "outputs": [],
   "source": [
    "SOURCE_DATA_ROOT='../AudioData/'\n",
    "GENERATED_DATA_ROOT='../GeneratedData/'"
   ]
  },
  {
   "cell_type": "markdown",
   "metadata": {},
   "source": [
    "In the following section, we create a \"ToDoList\". It conatins a list of audio files and where their spectrums should go. *)% of the data set is used to"
   ]
  },
  {
   "cell_type": "code",
   "execution_count": 3,
   "metadata": {},
   "outputs": [
    {
     "name": "stdout",
     "output_type": "stream",
     "text": [
      "44 35\n",
      "35 9\n",
      "Finished this class. Going to the next\n",
      "135 108\n",
      "108 27\n",
      "Finished this class. Going to the next\n",
      "0 0\n",
      "0 0\n",
      "Finished this class. Going to the next\n",
      "Done Creating our ToDoList. I'll start computing now, hold on.\n",
      "All Done.\n"
     ]
    }
   ],
   "source": [
    "ToDoList=[]\n",
    "SourceFoldersLabels = [f.path for f in os.scandir(SOURCE_DATA_ROOT) if f.is_dir()]\n",
    "for path in SourceFoldersLabels:\n",
    "    FileList = np.array([f.path for f in os.scandir(path) if f.is_file() and (f.name.endswith(\".aif\") or f.name.endswith(\".flac\") or f.name.endswith(\".wav\") or f.name.endswith(\".m4a\") or f.name.endswith(\".mp3\"))])\n",
    "    Label = os.path.split(path)[-1]\n",
    "    OutFolderTrain = os.path.join(GENERATED_DATA_ROOT,Label,'train')\n",
    "    OutFolderTest = os.path.join(GENERATED_DATA_ROOT,Label,'test')\n",
    "    if not os.path.exists(OutFolderTrain):\n",
    "        os.makedirs(OutFolderTrain)\n",
    "    if not os.path.exists(OutFolderTest):\n",
    "        os.makedirs(OutFolderTest)\n",
    "    np.random.shuffle(FileList)\n",
    "    trainCount =np.int(np.floor(0.8*FileList.shape[0]))\n",
    "    print(FileList.shape[0],trainCount)\n",
    "    train_set = FileList[:trainCount]\n",
    "    test_set = FileList[trainCount:]\n",
    "    print(len(train_set),len(test_set))\n",
    "    for f in train_set:\n",
    "        ToDoList.append((os.path.abspath(f),os.path.abspath(OutFolderTrain)))\n",
    "    for f in test_set:\n",
    "        ToDoList.append((os.path.abspath(f),os.path.abspath(OutFolderTest)))\n",
    "    print(\"Finished this class. Going to the next\")\n",
    "Commands = [[sys.executable, \"../helperFunctions.py\",t[0],t[1]] for t in ToDoList]\n",
    "print(\"Done Creating our ToDoList. I'll start computing now, hold on.\")\n",
    "tempArray=[]\n",
    "for i in range(len(Commands)):\n",
    "    tempArray.append(Commands[i])\n",
    "    if(len(tempArray)>=12):\n",
    "        procs = [ Popen(j) for j in tempArray ]\n",
    "        for p in procs:\n",
    "            p.wait()\n",
    "        tempArray=[]\n",
    "\n",
    "procs = [ Popen(j) for j in tempArray ]\n",
    "for p in procs:\n",
    "    p.communicate() \n",
    "print(\"All Done.\")"
   ]
  },
  {
   "cell_type": "markdown",
   "metadata": {},
   "source": [
    "This moves the Spectrum Variables file into the output folder so that we can correspond the images with labels."
   ]
  }
 ],
 "metadata": {
  "kernelspec": {
   "display_name": "Python 3",
   "language": "python",
   "name": "python3"
  },
  "language_info": {
   "codemirror_mode": {
    "name": "ipython",
    "version": 3
   },
   "file_extension": ".py",
   "mimetype": "text/x-python",
   "name": "python",
   "nbconvert_exporter": "python",
   "pygments_lexer": "ipython3",
   "version": "3.8.3"
  }
 },
 "nbformat": 4,
 "nbformat_minor": 4
}

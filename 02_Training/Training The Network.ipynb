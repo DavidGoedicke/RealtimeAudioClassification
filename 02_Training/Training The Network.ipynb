{
 "cells": [
  {
   "cell_type": "markdown",
   "metadata": {},
   "source": [
    "## Training the network\n",
    "\n",
    "In this notebook we take the generated images in the ``eneratedData`` folder and use them to train a neural network.\n",
    "\n",
    "### What does it all do?\n",
    "We will walk througho the main steps so you can understand in basics steps in this notebook. \n",
    "\n",
    "---\n",
    "\n",
    "First we need to import a couple of different libraries. You can see many of them contain the name ```troch```, this is the main machine learning library we will use. \n"
   ]
  },
  {
   "cell_type": "code",
   "execution_count": 1,
   "metadata": {
    "ExecuteTime": {
     "end_time": "2020-08-02T21:29:25.120376Z",
     "start_time": "2020-08-02T21:29:25.114187Z"
    }
   },
   "outputs": [],
   "source": [
    "from torch import nn\n",
    "from torch import optim\n",
    "import torch.nn as nn\n",
    "import torch.nn.parallel\n",
    "import torch.backends.cudnn as cudnn\n",
    "import torch.nn.functional as F\n",
    "from torchvision import datasets, transforms, models\n",
    "import torchvision\n",
    "import time\n",
    "from sklearn.metrics import confusion_matrix\n",
    "\n",
    "import soundfile as sf\n",
    "import scipy.signal as sps\n",
    "from nnAudio import Spectrogram\n",
    "\n",
    "\n",
    "#### NOOOOO\n",
    "import librosa"
   ]
  },
  {
   "cell_type": "markdown",
   "metadata": {},
   "source": [
    "## Define classes to train\n",
    "\n",
    "The less classes you have  the fewer data you need. So slecting just the right ammount of classes can be one way to reduce the ammount of processing and increase, potentially, the reliabilty.\n",
    "\n",
    "In the following section you can select which of the found classes should be included."
   ]
  },
  {
   "cell_type": "code",
   "execution_count": 2,
   "metadata": {
    "ExecuteTime": {
     "end_time": "2020-08-02T21:29:25.860651Z",
     "start_time": "2020-08-02T21:29:25.783158Z"
    },
    "scrolled": true
   },
   "outputs": [
    {
     "name": "stdout",
     "output_type": "stream",
     "text": [
      "Select classes to use for training:\n"
     ]
    },
    {
     "data": {
      "application/vnd.jupyter.widget-view+json": {
       "model_id": "d1877217b15d4696b12e7823627974fb",
       "version_major": 2,
       "version_minor": 0
      },
      "text/plain": [
       "Checkbox(value=False, description='air_conditioner', indent=False)"
      ]
     },
     "metadata": {},
     "output_type": "display_data"
    },
    {
     "data": {
      "application/vnd.jupyter.widget-view+json": {
       "model_id": "07d9c51f9f35400f893abdf233a0e135",
       "version_major": 2,
       "version_minor": 0
      },
      "text/plain": [
       "Checkbox(value=False, description='car_horn', indent=False)"
      ]
     },
     "metadata": {},
     "output_type": "display_data"
    },
    {
     "data": {
      "application/vnd.jupyter.widget-view+json": {
       "model_id": "667d48fdaa214d28b99ed71d0d653490",
       "version_major": 2,
       "version_minor": 0
      },
      "text/plain": [
       "Checkbox(value=False, description='children_playing', indent=False)"
      ]
     },
     "metadata": {},
     "output_type": "display_data"
    },
    {
     "data": {
      "application/vnd.jupyter.widget-view+json": {
       "model_id": "be4c07752d01449d91e6bf8bbdd00e01",
       "version_major": 2,
       "version_minor": 0
      },
      "text/plain": [
       "Checkbox(value=False, description='dog_bark', indent=False)"
      ]
     },
     "metadata": {},
     "output_type": "display_data"
    },
    {
     "data": {
      "application/vnd.jupyter.widget-view+json": {
       "model_id": "5e1a031265d04a76b65d8b45cdba13eb",
       "version_major": 2,
       "version_minor": 0
      },
      "text/plain": [
       "Checkbox(value=False, description='drilling', indent=False)"
      ]
     },
     "metadata": {},
     "output_type": "display_data"
    },
    {
     "data": {
      "application/vnd.jupyter.widget-view+json": {
       "model_id": "94d25250f6a24078aa4ddd291cc0fe1d",
       "version_major": 2,
       "version_minor": 0
      },
      "text/plain": [
       "Checkbox(value=False, description='engine_idling', indent=False)"
      ]
     },
     "metadata": {},
     "output_type": "display_data"
    },
    {
     "data": {
      "application/vnd.jupyter.widget-view+json": {
       "model_id": "7134e96000d34ca4981b5418fd0f0fe2",
       "version_major": 2,
       "version_minor": 0
      },
      "text/plain": [
       "Checkbox(value=False, description='environment', indent=False)"
      ]
     },
     "metadata": {},
     "output_type": "display_data"
    },
    {
     "data": {
      "application/vnd.jupyter.widget-view+json": {
       "model_id": "2456d6f229b841e4ad62f1c5d0e9cb8f",
       "version_major": 2,
       "version_minor": 0
      },
      "text/plain": [
       "Checkbox(value=False, description='gun_shot', indent=False)"
      ]
     },
     "metadata": {},
     "output_type": "display_data"
    },
    {
     "data": {
      "application/vnd.jupyter.widget-view+json": {
       "model_id": "18824700391b4ad19d79ebbac7ba781f",
       "version_major": 2,
       "version_minor": 0
      },
      "text/plain": [
       "Checkbox(value=False, description='jackhammer', indent=False)"
      ]
     },
     "metadata": {},
     "output_type": "display_data"
    },
    {
     "data": {
      "application/vnd.jupyter.widget-view+json": {
       "model_id": "1f0ac3a0a1fe4dd89cd1d601ed72b577",
       "version_major": 2,
       "version_minor": 0
      },
      "text/plain": [
       "Checkbox(value=False, description='siren', indent=False)"
      ]
     },
     "metadata": {},
     "output_type": "display_data"
    },
    {
     "data": {
      "application/vnd.jupyter.widget-view+json": {
       "model_id": "e8f3e8aa6dde4d83b78936a17a862db5",
       "version_major": 2,
       "version_minor": 0
      },
      "text/plain": [
       "Checkbox(value=False, description='street_music', indent=False)"
      ]
     },
     "metadata": {},
     "output_type": "display_data"
    }
   ],
   "source": [
    "Type=\"TRAINING\"\n",
    "exec(open(\"../helperFunctions.py\",\"rb\").read())"
   ]
  },
  {
   "cell_type": "markdown",
   "metadata": {
    "ExecuteTime": {
     "end_time": "2020-08-02T21:29:41.596014Z",
     "start_time": "2020-08-02T21:29:41.590541Z"
    }
   },
   "source": [
    "UsedClasses=[]\n",
    "for k in widgetDict:\n",
    "    if widgetDict[k].value==True:\n",
    "        UsedClasses.append(k)\n",
    "if(len(UsedClasses)<2):\n",
    "    print(\"Something is wrong here. we need at least 2 classes!\")\n"
   ]
  },
  {
   "cell_type": "markdown",
   "metadata": {},
   "source": [
    "UsedClasses=['street_music' ,'siren' ,'jackhammer' ,'engine_idling' ,'drilling' ,'dog_bark' ,'children_playing' ,'air_conditioner']"
   ]
  },
  {
   "cell_type": "code",
   "execution_count": 2,
   "metadata": {},
   "outputs": [],
   "source": [
    "UsedClasses=['street_music' ,'siren' ,'children_playing' ,'dog_bark']"
   ]
  },
  {
   "cell_type": "markdown",
   "metadata": {},
   "source": [
    "## Loading data set\n",
    "If test set is not defined previously, this function pulls a test set from the training set using a 80/20%split"
   ]
  },
  {
   "cell_type": "code",
   "execution_count": 3,
   "metadata": {},
   "outputs": [],
   "source": [
    "device = torch.device(\"cuda\" if torch.cuda.is_available() else \"cpu\")\n",
    "#device = \"cpu\""
   ]
  },
  {
   "cell_type": "code",
   "execution_count": 4,
   "metadata": {},
   "outputs": [],
   "source": [
    "ROOT='../AudioData/'\n",
    "\n",
    "class AudioData(torch.utils.data.Dataset):\n",
    "            \"\"\"Face Landmarks dataset.\"\"\"\n",
    "            def __init__(self, classNumber, ClassName,root_dir,device):\n",
    "                \"\"\"\n",
    "                Args:\n",
    "                    root_dir (string): Directory with all the images.\n",
    "                    transform (callable, optional): Optional transform to be applied\n",
    "                        on a sample.\n",
    "                \"\"\"\n",
    "                self.root_dir = root_dir\n",
    "                self.ClassName=ClassName\n",
    "                self.classNumber=classNumber\n",
    "                #self.fileList=[]\n",
    "                self.audioList=[]\n",
    "                for f in os.listdir(root_dir):\n",
    "                    if(f.endswith('.DS_Store')):\n",
    "                        continue\n",
    "                    if librosa.get_duration(filename=os.path.join(root_dir,f))>=1.06:\n",
    "                        y, sr = librosa.load(os.path.join(root_dir,f),duration=1.05, sr=22050,mono=True)\n",
    "                        #print(len(y))\n",
    "                        self.audioList.append(np.array(y))\n",
    "                        #self.fileList.append(f)\n",
    "                self.device = device\n",
    "                print(\"Done with class\", self.ClassName,len(self.audioList),len(self.audioList[0]));\n",
    "            \n",
    "            def __len__(self):\n",
    "                return len(self.audioList) # self.fileList\n",
    "            \n",
    "            def __getitem__(self, idx):\n",
    "                if torch.is_tensor(idx):\n",
    "                    idx = idx.tolist()\n",
    "                #audio_path = os.path.join(self.root_dir,self.fileList[idx])\n",
    "               \n",
    "                #sr, song = wavfile.read(audio_path) # Loading your audio\n",
    "               # data_, samplerate = sf.read(audio_path,always_2d=True)\n",
    "                #data=data_.T[0]\n",
    "                 # Your new sampling rate\n",
    "                #new_rate = 22050\n",
    "\n",
    "                # Resample data\n",
    "               # number_of_samples = round(len(data) * float(new_rate) / samplerate)\n",
    "                #data = sps.resample(data, number_of_samples)\n",
    "                #y, sr = librosa.load(audio_path,duration=0.41, sr=22050,mono=True)\n",
    "                \n",
    "                x = self.audioList[idx][0:22050]  # y[0:8820]\n",
    "                #print(x.shape,audio_path)\n",
    "                x = torch.tensor(x, device=self.device).float() \n",
    "                return x,self.classNumber"
   ]
  },
  {
   "cell_type": "code",
   "execution_count": 35,
   "metadata": {},
   "outputs": [
    {
     "ename": "ValueError",
     "evalue": "tuple.index(x): x not in tuple",
     "output_type": "error",
     "traceback": [
      "\u001b[1;31m---------------------------------------------------------------------------\u001b[0m",
      "\u001b[1;31mValueError\u001b[0m                                Traceback (most recent call last)",
      "\u001b[1;32m<ipython-input-35-c809c8772321>\u001b[0m in \u001b[0;36m<module>\u001b[1;34m\u001b[0m\n\u001b[1;32m----> 1\u001b[1;33m \u001b[0mclasses\u001b[0m\u001b[1;33m.\u001b[0m\u001b[0mindex\u001b[0m\u001b[1;33m(\u001b[0m\u001b[1;34m\"air_conditioner\"\u001b[0m\u001b[1;33m)\u001b[0m\u001b[1;33m\u001b[0m\u001b[1;33m\u001b[0m\u001b[0m\n\u001b[0m",
      "\u001b[1;31mValueError\u001b[0m: tuple.index(x): x not in tuple"
     ]
    }
   ],
   "source": [
    "classes.index(\"air_conditioner\")"
   ]
  },
  {
   "cell_type": "code",
   "execution_count": 22,
   "metadata": {},
   "outputs": [],
   "source": [
    "import os\n",
    "import numpy as np\n",
    "import matplotlib.pyplot as plt\n",
    "import matplotlib.image as mpimg"
   ]
  },
  {
   "cell_type": "code",
   "execution_count": 12,
   "metadata": {
    "ExecuteTime": {
     "end_time": "2020-08-02T21:29:44.497868Z",
     "start_time": "2020-08-02T21:29:44.446826Z"
    }
   },
   "outputs": [
    {
     "name": "stdout",
     "output_type": "stream",
     "text": [
      "Done with class street_music 1000 23153\n",
      "Done with class siren 915 23153\n",
      "Done with class children_playing 999 23153\n",
      "Done with class dog_bark 853 23153\n"
     ]
    }
   ],
   "source": [
    "classes =  tuple(UsedClasses)\n",
    "\n",
    "\n",
    "AllData=[]\n",
    "\n",
    "for cl in classes:   \n",
    "    trainPath=os.path.join(ROOT,cl)\n",
    "    if os.path.isdir (trainPath):\n",
    "        AllData.append( AudioData(classes.index(cl), cl,trainPath,device))\n",
    "    else:\n",
    "        print('Coud not find path',trainPath);\n",
    "        \n",
    "\n",
    "AllDataSets = torch.utils.data.ConcatDataset(AllData);\n",
    "trainSize = int(len(AllDataSets)*0.8);\n",
    "testSize = len(AllDataSets) - trainSize;\n",
    "\n",
    "\n",
    "TrainDataSet, TestDataSet = torch.utils.data.random_split(AllDataSets, [trainSize, testSize],generator=torch.Generator().manual_seed(42))\n",
    "trainloader = torch.utils.data.DataLoader(TrainDataSet, batch_size=16, shuffle=True)\n",
    "testloader = torch.utils.data.DataLoader(TestDataSet, batch_size=16, shuffle=False)"
   ]
  },
  {
   "cell_type": "markdown",
   "metadata": {},
   "source": [
    "## Load pretrained model \n"
   ]
  },
  {
   "cell_type": "code",
   "execution_count": 7,
   "metadata": {},
   "outputs": [],
   "source": [
    "import nnAudio"
   ]
  },
  {
   "cell_type": "code",
   "execution_count": null,
   "metadata": {},
   "outputs": [],
   "source": [
    "#self.mel = nnAudio.Spectrogram.MelSpectrogram(n_fft=2048, \n",
    "                                                      n_mels=128,\n",
    "                                                      hop_length=64,\n",
    "                                                      power=2.0,\n",
    "                                                      fmin=10.0,\n",
    "                                                      fmax=8000,\n",
    "                                                      sr=22050,\n",
    "                                                      trainable_mel=False,\n",
    "                                                      htk=True ,\n",
    "                                                      trainable_STFT=False).cuda(device)"
   ]
  },
  {
   "cell_type": "code",
   "execution_count": 17,
   "metadata": {},
   "outputs": [
    {
     "data": {
      "text/plain": [
       "device(type='cpu')"
      ]
     },
     "execution_count": 17,
     "metadata": {},
     "output_type": "execute_result"
    }
   ],
   "source": [
    "device"
   ]
  },
  {
   "cell_type": "code",
   "execution_count": 34,
   "metadata": {
    "ExecuteTime": {
     "end_time": "2020-08-02T20:36:02.653653Z",
     "start_time": "2020-08-02T20:36:02.539338Z"
    }
   },
   "outputs": [],
   "source": [
    "class Model(torch.nn.Module):\n",
    "    def __init__(self,classCount):\n",
    "        super(Model,self).__init__()\n",
    "        \n",
    "        self.mel =  Spectrogram.STFT(n_fft=512, freq_bins=None,\n",
    "                                           hop_length=128, window='hann',\n",
    "                                           center=True,\n",
    "                                           freq_scale = 'log',\n",
    "                                           pad_mode='reflect', fmin=50,\n",
    "                                           fmax=8000, sr=22050, trainable=True,\n",
    "                                           output_format='Magnitude').to(device) # Using device='cuda:0'\n",
    "        #torch.nn.init.xavier_uniform_(self.mel.mel_basis)\n",
    "        self.CNN_layer1 = torch.nn.Conv2d(1,32, kernel_size=(12,12)).to(device)\n",
    "        self.CNN_layer2 = torch.nn.Conv2d(32,64, kernel_size=(16,16)).to(device)\n",
    "        self.mpool = nn.MaxPool2d(4,stride=3).to(device)\n",
    "        self.fc1 = torch.nn.Linear(64* 76* 48,128).to(device)\n",
    "        self.fc2 = torch.nn.Linear(128,classCount).to(device)\n",
    "    def visualize(self, sound):\n",
    "        return self.mel(sound)\n",
    "    def forward(self, x):\n",
    "        x = self.mel(x)\n",
    "        #print(x.shape)\n",
    "        x = self.CNN_layer1(x.unsqueeze(1))\n",
    "        x = self.CNN_layer2(x)\n",
    "        x = self.mpool(x)\n",
    "        print(x.shape)\n",
    "        x = x.view(x.data.size()[0],64* 76* 48)\n",
    "        x = self.fc1(torch.relu(x))\n",
    "        x = self.fc2(torch.relu(x))\n",
    "        return torch.softmax(x,dim=1)"
   ]
  },
  {
   "cell_type": "code",
   "execution_count": 35,
   "metadata": {},
   "outputs": [
    {
     "name": "stdout",
     "output_type": "stream",
     "text": [
      "sampling rate = 22050. Please make sure the sampling rate is correct in order toget a valid freq range\n",
      "STFT kernels created, time used = 0.0137 seconds\n",
      "siren\n"
     ]
    },
    {
     "data": {
      "image/png": "[encoded data removed]",
      "text/plain": [
       "<Figure size 720x720 with 1 Axes>"
      ]
     },
     "metadata": {
      "needs_background": "light"
     },
     "output_type": "display_data"
    }
   ],
   "source": [
    "blup = next(iter(trainloader))\n",
    "model=Model(len(classes))\n",
    "spec= model.visualize(blup[0])\n",
    "fig = plt.figure(figsize=(10, 10)) \n",
    "plt.imshow(spec[0].cpu().detach().numpy())\n",
    "print(classes[blup[1][0]])"
   ]
  },
  {
   "cell_type": "code",
   "execution_count": 36,
   "metadata": {
    "ExecuteTime": {
     "end_time": "2020-08-02T20:42:16.669357Z",
     "start_time": "2020-08-02T20:42:16.661468Z"
    }
   },
   "outputs": [
    {
     "name": "stdout",
     "output_type": "stream",
     "text": [
      "sampling rate = 22050. Please make sure the sampling rate is correct in order toget a valid freq range\n",
      "STFT kernels created, time used = 0.0135 seconds\n"
     ]
    }
   ],
   "source": [
    "model=Model(len(classes))\n",
    "model.to(device)\n",
    "criterion = nn.CrossEntropyLoss()\n",
    "optimizer = torch.optim.Adam(model.parameters(), lr=1e-5)\n",
    "train_epoch_losses=[]\n",
    "test_epoch_losses=[]\n",
    "epoch=0"
   ]
  },
  {
   "cell_type": "code",
   "execution_count": null,
   "metadata": {
    "ExecuteTime": {
     "end_time": "2020-08-02T20:44:00.245670Z",
     "start_time": "2020-08-02T20:42:29.699734Z"
    }
   },
   "outputs": [
    {
     "name": "stdout",
     "output_type": "stream",
     "text": [
      "Starting epoch: 1\n",
      "torch.Size([16, 64, 76, 48])\n",
      "torch.Size([16, 64, 76, 48])\n",
      "torch.Size([16, 64, 76, 48])\n",
      "torch.Size([16, 64, 76, 48])\n",
      "torch.Size([16, 64, 76, 48])\n",
      "torch.Size([16, 64, 76, 48])\n",
      "torch.Size([16, 64, 76, 48])\n",
      "torch.Size([16, 64, 76, 48])\n",
      "torch.Size([16, 64, 76, 48])\n",
      "torch.Size([16, 64, 76, 48])\n",
      "torch.Size([16, 64, 76, 48])\n",
      "torch.Size([16, 64, 76, 48])\n",
      "torch.Size([16, 64, 76, 48])\n",
      "torch.Size([16, 64, 76, 48])\n",
      "torch.Size([16, 64, 76, 48])\n",
      "torch.Size([16, 64, 76, 48])\n",
      "torch.Size([16, 64, 76, 48])\n",
      "torch.Size([16, 64, 76, 48])\n",
      "torch.Size([16, 64, 76, 48])\n",
      "torch.Size([16, 64, 76, 48])\n",
      "torch.Size([16, 64, 76, 48])\n",
      "torch.Size([16, 64, 76, 48])\n",
      "torch.Size([16, 64, 76, 48])\n",
      "torch.Size([16, 64, 76, 48])\n",
      "torch.Size([16, 64, 76, 48])\n",
      "Processed images: 400 . Running Timer @ 737.32sec.\n",
      "torch.Size([16, 64, 76, 48])\n",
      "torch.Size([16, 64, 76, 48])\n",
      "torch.Size([16, 64, 76, 48])\n",
      "torch.Size([16, 64, 76, 48])\n",
      "torch.Size([16, 64, 76, 48])\n",
      "torch.Size([16, 64, 76, 48])\n",
      "torch.Size([16, 64, 76, 48])\n",
      "torch.Size([16, 64, 76, 48])\n",
      "torch.Size([16, 64, 76, 48])\n",
      "torch.Size([16, 64, 76, 48])\n",
      "torch.Size([16, 64, 76, 48])\n",
      "torch.Size([16, 64, 76, 48])\n",
      "torch.Size([16, 64, 76, 48])\n",
      "torch.Size([16, 64, 76, 48])\n",
      "torch.Size([16, 64, 76, 48])\n",
      "torch.Size([16, 64, 76, 48])\n",
      "torch.Size([16, 64, 76, 48])\n",
      "torch.Size([16, 64, 76, 48])\n",
      "torch.Size([16, 64, 76, 48])\n",
      "torch.Size([16, 64, 76, 48])\n",
      "torch.Size([16, 64, 76, 48])\n",
      "torch.Size([16, 64, 76, 48])\n",
      "torch.Size([16, 64, 76, 48])\n",
      "torch.Size([16, 64, 76, 48])\n",
      "torch.Size([16, 64, 76, 48])\n",
      "Processed images: 800 . Running Timer @ 1434.10sec.\n",
      "torch.Size([16, 64, 76, 48])\n",
      "torch.Size([16, 64, 76, 48])\n",
      "torch.Size([16, 64, 76, 48])\n",
      "torch.Size([16, 64, 76, 48])\n",
      "torch.Size([16, 64, 76, 48])\n",
      "torch.Size([16, 64, 76, 48])\n",
      "torch.Size([16, 64, 76, 48])\n",
      "torch.Size([16, 64, 76, 48])\n",
      "torch.Size([16, 64, 76, 48])\n",
      "torch.Size([16, 64, 76, 48])\n",
      "torch.Size([16, 64, 76, 48])\n",
      "torch.Size([16, 64, 76, 48])\n",
      "torch.Size([16, 64, 76, 48])\n",
      "torch.Size([16, 64, 76, 48])\n",
      "torch.Size([16, 64, 76, 48])\n",
      "torch.Size([16, 64, 76, 48])\n",
      "torch.Size([16, 64, 76, 48])\n",
      "torch.Size([16, 64, 76, 48])\n",
      "torch.Size([16, 64, 76, 48])\n",
      "torch.Size([16, 64, 76, 48])\n",
      "torch.Size([16, 64, 76, 48])\n",
      "torch.Size([16, 64, 76, 48])\n",
      "torch.Size([16, 64, 76, 48])\n",
      "torch.Size([16, 64, 76, 48])\n",
      "torch.Size([16, 64, 76, 48])\n",
      "Processed images: 1200 . Running Timer @ 2084.49sec.\n",
      "torch.Size([16, 64, 76, 48])\n",
      "torch.Size([16, 64, 76, 48])\n",
      "torch.Size([16, 64, 76, 48])\n",
      "torch.Size([16, 64, 76, 48])\n",
      "torch.Size([16, 64, 76, 48])\n",
      "torch.Size([16, 64, 76, 48])\n",
      "torch.Size([16, 64, 76, 48])\n",
      "torch.Size([16, 64, 76, 48])\n",
      "torch.Size([16, 64, 76, 48])\n",
      "torch.Size([16, 64, 76, 48])\n",
      "torch.Size([16, 64, 76, 48])\n",
      "torch.Size([16, 64, 76, 48])\n",
      "torch.Size([16, 64, 76, 48])\n",
      "torch.Size([16, 64, 76, 48])\n",
      "torch.Size([16, 64, 76, 48])\n",
      "torch.Size([16, 64, 76, 48])\n",
      "torch.Size([16, 64, 76, 48])\n",
      "torch.Size([16, 64, 76, 48])\n",
      "torch.Size([16, 64, 76, 48])\n"
     ]
    }
   ],
   "source": [
    "#### Training the network on the training dataset\n",
    "for i in range(5):  # loop over the dataset multiple (5) times \n",
    "    epoch+=1\n",
    "    print(\"Starting epoch:\",epoch)\n",
    "    epochLoss=0.0\n",
    "    t0 = time.time()\n",
    "    model.train()\n",
    "    for i, (inputs, labels) in enumerate(trainloader, 0):\n",
    "        #print(\"Loaded\")\n",
    "        #print(inputs.shape)\n",
    "        inputs = inputs.to(device)\n",
    "        labels = labels.to(device)\n",
    "        #print(\"move to cuda\")\n",
    "        optimizer.zero_grad()\n",
    "        if((i+i)%50==0):\n",
    "            if(i>0):\n",
    "                print('Processed images:',i*trainloader.batch_size,'. Running Timer @ {:.2f}sec.'.format(time.time()-t0))\n",
    "        # forward + backward + optimize\n",
    "        outputs = model(inputs)\n",
    "        #print(\"move through model\")\n",
    "        #print(outputs)\n",
    "        loss = criterion(outputs, labels)\n",
    "        #print(\"loss done\")\n",
    "        loss.backward()\n",
    "        #print(\"backprop\")\n",
    "        optimizer.step()\n",
    "        #print(\"optimize done\")\n",
    "        epochLoss+=loss.item()\n",
    "        \n",
    "    \n",
    "    model.eval()\n",
    "    testLoss=0\n",
    "    print(\"About to test the performance on the test set.\")\n",
    "    with torch.no_grad():\n",
    "        for i, (inputs, labels) in enumerate(testloader, 0):\n",
    "            # get the inputs\n",
    "            inputs = inputs.to(device)\n",
    "            labels = labels.to(device)\n",
    "            outputs = model(inputs)\n",
    "            loss = criterion(outputs, labels)\n",
    "            testLoss+=loss.item()\n",
    "            if(i%50==0):\n",
    "                if(i>0):\n",
    "                    print('Tested images:',i*testloader.batch_size,'. Running Timer @ {:.2f}sec.'.format(time.time()-t0))\n",
    "\n",
    "\n",
    "    train_epoch_losses.append(epochLoss/len(trainloader))\n",
    "    test_epoch_losses.append(testLoss/len(testloader))\n",
    "    EpochLength = time.time()-t0\n",
    "    print('{} train loss: {:.3f} and test loss: {:.3f}, and it took us: {:.2f} seconds.'.format (epoch + 1, epochLoss / len(trainloader),testLoss/len(testloader),EpochLength))  # DAVID CHanged it to 1000 from 2000 not sure if thats totally done\n",
    "print('Finished Training')\n"
   ]
  },
  {
   "cell_type": "code",
   "execution_count": 34,
   "metadata": {},
   "outputs": [],
   "source": []
  },
  {
   "cell_type": "markdown",
   "metadata": {},
   "source": [
    "### Post training analytics"
   ]
  },
  {
   "cell_type": "markdown",
   "metadata": {},
   "source": [
    "After the training has finished, save information about the training"
   ]
  },
  {
   "cell_type": "code",
   "execution_count": null,
   "metadata": {
    "ExecuteTime": {
     "end_time": "2020-08-02T20:44:08.058441Z",
     "start_time": "2020-08-02T20:44:07.767189Z"
    }
   },
   "outputs": [],
   "source": [
    "# saving the learnd model in file that can be loaded in for inference\n",
    "torch.save({\n",
    "    'model':model.state_dict(),\n",
    "    'classes':classes,\n",
    "    'resolution':224,\n",
    "    'modelType':\"resnet18\" # <= If you try out different models make sure to change this too\n",
    "},\"../models/CatDogResNet.pth\") # <=Edit file name here "
   ]
  },
  {
   "cell_type": "markdown",
   "metadata": {},
   "source": [
    "Display how the traing and test loss progressed over successive epochs"
   ]
  },
  {
   "cell_type": "code",
   "execution_count": 25,
   "metadata": {
    "ExecuteTime": {
     "end_time": "2020-08-02T20:44:09.700714Z",
     "start_time": "2020-08-02T20:44:09.070817Z"
    }
   },
   "outputs": [
    {
     "data": {
      "image/png": "[encoded data removed]",
      "text/plain": [
       "<Figure size 432x288 with 1 Axes>"
      ]
     },
     "metadata": {
      "needs_background": "light"
     },
     "output_type": "display_data"
    }
   ],
   "source": [
    "#Displaying how the loss progresses over time.\n",
    "plt.plot(train_epoch_losses, label='Training Loss',c='r')\n",
    "plt.plot(test_epoch_losses, label='Test Loss',c='g')\n",
    "plt.legend()\n",
    "plt.show()"
   ]
  },
  {
   "cell_type": "markdown",
   "metadata": {},
   "source": [
    "Show spectagrams, Predicted and Actual labels."
   ]
  },
  {
   "cell_type": "code",
   "execution_count": null,
   "metadata": {
    "ExecuteTime": {
     "end_time": "2020-08-02T20:44:12.759024Z",
     "start_time": "2020-08-02T20:44:12.697637Z"
    },
    "scrolled": true
   },
   "outputs": [],
   "source": [
    "# Print predicted and acual labels for Spectragrams\n",
    "model.eval()\n",
    "dataiter = iter(testloader)\n",
    "images, labels = dataiter.next()\n",
    "images, labels = images.to(device), labels.to(device)\n",
    "outputs = model(images)\n",
    "_, predicted = torch.max(outputs, 1)\n",
    "for i in range(trainloader.batch_size):\n",
    "    imshow(images[i].cpu())\n",
    "    print('GroundTruth: ',classes[labels[i]])\n",
    "    print('Predicted: ',  classes[predicted[i]])\n"
   ]
  },
  {
   "cell_type": "markdown",
   "metadata": {},
   "source": [
    "Print accuracy of test predictions for each label"
   ]
  },
  {
   "cell_type": "code",
   "execution_count": 26,
   "metadata": {
    "ExecuteTime": {
     "end_time": "2020-08-02T20:44:15.905168Z",
     "start_time": "2020-08-02T20:44:14.974999Z"
    }
   },
   "outputs": [
    {
     "name": "stdout",
     "output_type": "stream",
     "text": [
      "torch.Size([256, 64, 33, 5])\n",
      "torch.Size([256, 64, 33, 5])\n",
      "torch.Size([242, 64, 33, 5])\n",
      "[[154  15  16  17]\n",
      " [ 33  87  21  32]\n",
      " [ 71  23  45  73]\n",
      " [ 21  16  31  99]]\n",
      "Accuracy of street_music : 76 %\n",
      "Accuracy of siren : 50 %\n",
      "Accuracy of children_playing : 21 %\n",
      "Accuracy of dog_bark : 59 %\n",
      "Average percentage:\t51%\n"
     ]
    }
   ],
   "source": [
    "# Network analytics\n",
    "class_correct = list(0. for i in range(len(classes)))\n",
    "class_total = list(0. for i in range(len(classes)))\n",
    "model.eval()\n",
    "allLabels=[]\n",
    "allPrediction=[]\n",
    "with torch.no_grad():\n",
    "    for data in testloader:\n",
    "        inputs, labels = data\n",
    "        inputs = inputs.cuda(device)\n",
    "        labels = labels.cuda(device)\n",
    "        outputs = model(inputs)\n",
    "        _, predicted = torch.max(outputs, 1)\n",
    "        c = (predicted == labels).squeeze()\n",
    "        if (c.dim()==0):\n",
    "            continue\n",
    "        for i in range(testloader.batch_size):\n",
    "            if(len(labels)<=i):\n",
    "                continue;\n",
    "            label = labels[i]\n",
    "            allLabels.append(labels[i].to('cpu').numpy())\n",
    "            allPrediction.append(predicted[i].to('cpu').numpy())\n",
    "            #print (c.shape)\n",
    "            if(testloader.batch_size>1):\n",
    "                class_correct[label] += c[i].item()\n",
    "            else:\n",
    "                class_correct[label] += c.item()\n",
    "            class_total[label] += 1\n",
    "\n",
    "print(confusion_matrix(allLabels, allPrediction))\n",
    "averagePercentage = []\n",
    "for i in range(len(classes)):\n",
    "    print('Accuracy of %5s : %2d %%' % (\n",
    "        classes[i], 100 * class_correct[i] / class_total[i]))\n",
    "    averagePercentage.append( 100 * class_correct[i] / class_total[i])\n",
    "print(\"Average percentage:\\t%2d%%\"%(np.mean(averagePercentage)))"
   ]
  },
  {
   "cell_type": "markdown",
   "metadata": {},
   "source": []
  },
  {
   "cell_type": "code",
   "execution_count": null,
   "metadata": {},
   "outputs": [],
   "source": [
    "class Model(torch.nn.Module):\n",
    "    def __init__(self,classCount):\n",
    "        super(Model,self).__init__()\n",
    "        \n",
    "        self.mel = nnAudio.Spectrogram.MelSpectrogram(n_fft=2048, n_mels=64, trainable_mel=True, trainable_STFT=True).cuda(device) # Using device='cuda:0'\n",
    "\n",
    "        self.CNN_layer1 = torch.nn.Conv2d(1,1, kernel_size=(16,16)).cuda(device)\n",
    "        self.CNN_layer2 = torch.nn.Conv2d(1,1, kernel_size=(4,4)).cuda(device)\n",
    "        \n",
    "        self.regressor = torch.nn.Linear(46*26,classCount).cuda(device)\n",
    "\n",
    "    def forward(self, x):\n",
    "        #print(x.shape)\n",
    "        x = self.mel(x)\n",
    "        x = self.CNN_layer1(x.unsqueeze(1))\n",
    "        x = self.CNN_layer2(x)\n",
    "        #print(x.shape)\n",
    "        x = x.view(x.data.size()[0], 46*26)\n",
    "        x=torch.relu(x)\n",
    "        #print(x.shape)\n",
    "        x = self.regressor(torch.relu(x))\n",
    "        return torch.sigmoid(x)"
   ]
  },
  {
   "cell_type": "code",
   "execution_count": null,
   "metadata": {},
   "outputs": [],
   "source": [
    "'''\n",
    "[[118  11  39  26]\n",
    " [ 12  81  55  20]\n",
    " [ 39  15 128  28]\n",
    " [ 25   5  22 159]]\n",
    "Accuracy of street_music : 60 %\n",
    "Accuracy of siren : 48 %\n",
    "Accuracy of children_playing : 60 %\n",
    "Accuracy of air_conditioner : 75 %\n",
    "Average percentage:\t61%\n",
    "'''\n",
    "class Model(torch.nn.Module):\n",
    "    def __init__(self,classCount):\n",
    "        super(Model,self).__init__()\n",
    "        \n",
    "        self.mel = nnAudio.Spectrogram.MelSpectrogram(n_fft=1024, n_mels=128, trainable_mel=True, trainable_STFT=True).cuda(device) # Using device='cuda:0'\n",
    "        torch.nn.init.xavier_uniform_(self.mel.mel_basis)\n",
    "        self.CNN_layer1 = torch.nn.Conv2d(1,8, kernel_size=(16,16)).cuda(device)\n",
    "        self.CNN_layer2 = torch.nn.Conv2d(8,16, kernel_size=(16,16)).cuda(device)\n",
    "        \n",
    "        self.fc1 = torch.nn.Linear(16* 98* 14,128).cuda(device)\n",
    "        self.fc2 = torch.nn.Linear(128,classCount).cuda(device)\n",
    "\n",
    "    def forward(self, x):\n",
    "        x = self.mel(x)\n",
    "        #print(x.shape)\n",
    "        x = self.CNN_layer1(x.unsqueeze(1))\n",
    "        x = self.CNN_layer2(x)\n",
    "\n",
    "       # print(x.shape)\n",
    "        x = x.view(x.data.size()[0],16* 98* 14)\n",
    "        x = self.fc1(torch.relu(x))\n",
    "        x = self.fc2(torch.relu(x))\n",
    "        return torch.softmax(x,dim=1)"
   ]
  }
 ],
 "metadata": {
  "kernelspec": {
   "display_name": "Python 3",
   "language": "python",
   "name": "python3"
  },
  "language_info": {
   "codemirror_mode": {
    "name": "ipython",
    "version": 3
   },
   "file_extension": ".py",
   "mimetype": "text/x-python",
   "name": "python",
   "nbconvert_exporter": "python",
   "pygments_lexer": "ipython3",
   "version": "3.7.10"
  },
  "toc": {
   "base_numbering": 1,
   "nav_menu": {},
   "number_sections": true,
   "sideBar": true,
   "skip_h1_title": false,
   "title_cell": "Table of Contents",
   "title_sidebar": "Contents",
   "toc_cell": false,
   "toc_position": {},
   "toc_section_display": true,
   "toc_window_display": false
  }
 },
 "nbformat": 4,
 "nbformat_minor": 4
}

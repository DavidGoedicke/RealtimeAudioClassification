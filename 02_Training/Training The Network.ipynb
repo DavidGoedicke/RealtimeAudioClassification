{
 "cells": [
  {
   "cell_type": "markdown",
   "metadata": {},
   "source": [
    "## Training the network\n",
    "\n",
    "In this notebook we take the generated images in the ``eneratedData`` folder and use them to train a neural network.\n",
    "\n",
    "### What does it all do?\n",
    "We will walk througho the main steps so you can understand in basics steps in this notebook. \n",
    "\n",
    "---\n",
    "\n",
    "First we need to import a couple of different libraries. You can see many of them contain the name ```troch```, this is the main machine learning library we will use. \n"
   ]
  },
  {
   "cell_type": "code",
   "execution_count": null,
   "metadata": {},
   "outputs": [],
   "source": [
    "!pip install nnAudio\n"
   ]
  },
  {
   "cell_type": "code",
   "execution_count": null,
   "metadata": {},
   "outputs": [],
   "source": [
    "!pip install audioread"
   ]
  },
  {
   "cell_type": "code",
   "execution_count": null,
   "metadata": {},
   "outputs": [],
   "source": [
    "!pip install soundfile"
   ]
  },
  {
   "cell_type": "code",
   "execution_count": 1,
   "metadata": {
    "ExecuteTime": {
     "end_time": "2020-08-02T21:29:25.120376Z",
     "start_time": "2020-08-02T21:29:25.114187Z"
    }
   },
   "outputs": [],
   "source": [
    "from torch import nn\n",
    "from torch import optim\n",
    "import torch.nn as nn\n",
    "import torch.nn.parallel\n",
    "import torch.backends.cudnn as cudnn\n",
    "import torch.nn.functional as F\n",
    "from torchvision import datasets, transforms, models\n",
    "import torchvision\n",
    "import time\n",
    "from sklearn.metrics import confusion_matrix\n",
    "\n",
    "import soundfile as sf\n",
    "import scipy.signal as sps\n",
    "from nnAudio import Spectrogram\n",
    "\n",
    "\n",
    "#### NOOOOO\n",
    "import librosa"
   ]
  },
  {
   "cell_type": "markdown",
   "metadata": {},
   "source": [
    "## Define classes to train\n",
    "\n",
    "The less classes you have  the fewer data you need. So slecting just the right ammount of classes can be one way to reduce the ammount of processing and increase, potentially, the reliabilty.\n",
    "\n",
    "In the following section you can select which of the found classes should be included."
   ]
  },
  {
   "cell_type": "code",
   "execution_count": null,
   "metadata": {},
   "outputs": [],
   "source": []
  },
  {
   "cell_type": "code",
   "execution_count": 2,
   "metadata": {
    "ExecuteTime": {
     "end_time": "2020-08-02T21:29:25.860651Z",
     "start_time": "2020-08-02T21:29:25.783158Z"
    },
    "scrolled": true
   },
   "outputs": [
    {
     "name": "stdout",
     "output_type": "stream",
     "text": [
      "Select classes to use for training:\n"
     ]
    },
    {
     "data": {
      "application/vnd.jupyter.widget-view+json": {
       "model_id": "4f73dbbf3fba45e193e3f00f34b69148",
       "version_major": 2,
       "version_minor": 0
      },
      "text/plain": [
       "Checkbox(value=False, description='air_conditioner', indent=False)"
      ]
     },
     "metadata": {},
     "output_type": "display_data"
    },
    {
     "data": {
      "application/vnd.jupyter.widget-view+json": {
       "model_id": "c0584b751cb7475ea73696f10b804fa7",
       "version_major": 2,
       "version_minor": 0
      },
      "text/plain": [
       "Checkbox(value=False, description='car_horn', indent=False)"
      ]
     },
     "metadata": {},
     "output_type": "display_data"
    },
    {
     "data": {
      "application/vnd.jupyter.widget-view+json": {
       "model_id": "fcc60a08a0a045278345b279bd98b3fa",
       "version_major": 2,
       "version_minor": 0
      },
      "text/plain": [
       "Checkbox(value=False, description='children_playing', indent=False)"
      ]
     },
     "metadata": {},
     "output_type": "display_data"
    },
    {
     "data": {
      "application/vnd.jupyter.widget-view+json": {
       "model_id": "2cb4b2525ca34d59b8965291bef54344",
       "version_major": 2,
       "version_minor": 0
      },
      "text/plain": [
       "Checkbox(value=False, description='dog_bark', indent=False)"
      ]
     },
     "metadata": {},
     "output_type": "display_data"
    },
    {
     "data": {
      "application/vnd.jupyter.widget-view+json": {
       "model_id": "2eb83ea14b5f48c68a736bb26f1cdad5",
       "version_major": 2,
       "version_minor": 0
      },
      "text/plain": [
       "Checkbox(value=False, description='drilling', indent=False)"
      ]
     },
     "metadata": {},
     "output_type": "display_data"
    },
    {
     "data": {
      "application/vnd.jupyter.widget-view+json": {
       "model_id": "c649b2b23b624fc584a58b08ca1b5602",
       "version_major": 2,
       "version_minor": 0
      },
      "text/plain": [
       "Checkbox(value=False, description='engine_idling', indent=False)"
      ]
     },
     "metadata": {},
     "output_type": "display_data"
    },
    {
     "data": {
      "application/vnd.jupyter.widget-view+json": {
       "model_id": "f3c013313f9047758e42c99ab3d18a19",
       "version_major": 2,
       "version_minor": 0
      },
      "text/plain": [
       "Checkbox(value=False, description='environment', indent=False)"
      ]
     },
     "metadata": {},
     "output_type": "display_data"
    },
    {
     "data": {
      "application/vnd.jupyter.widget-view+json": {
       "model_id": "ca3e7e5bd83b4594a0f7a70e08933685",
       "version_major": 2,
       "version_minor": 0
      },
      "text/plain": [
       "Checkbox(value=False, description='gun_shot', indent=False)"
      ]
     },
     "metadata": {},
     "output_type": "display_data"
    },
    {
     "data": {
      "application/vnd.jupyter.widget-view+json": {
       "model_id": "aae2b52989d148049bb5b111bebc45ec",
       "version_major": 2,
       "version_minor": 0
      },
      "text/plain": [
       "Checkbox(value=False, description='jackhammer', indent=False)"
      ]
     },
     "metadata": {},
     "output_type": "display_data"
    },
    {
     "data": {
      "application/vnd.jupyter.widget-view+json": {
       "model_id": "7742e15f506846ad923546fc68cd5001",
       "version_major": 2,
       "version_minor": 0
      },
      "text/plain": [
       "Checkbox(value=False, description='siren', indent=False)"
      ]
     },
     "metadata": {},
     "output_type": "display_data"
    },
    {
     "data": {
      "application/vnd.jupyter.widget-view+json": {
       "model_id": "49186eea5cb841b49def38b4f211c395",
       "version_major": 2,
       "version_minor": 0
      },
      "text/plain": [
       "Checkbox(value=False, description='street_music', indent=False)"
      ]
     },
     "metadata": {},
     "output_type": "display_data"
    }
   ],
   "source": [
    "Type=\"TRAINING\"\n",
    "exec(open(\"../helperFunctions.py\",\"rb\").read())"
   ]
  },
  {
   "cell_type": "code",
   "execution_count": null,
   "metadata": {
    "ExecuteTime": {
     "end_time": "2020-08-02T21:29:41.596014Z",
     "start_time": "2020-08-02T21:29:41.590541Z"
    }
   },
   "outputs": [],
   "source": [
    "UsedClasses=[]\n",
    "for k in widgetDict:\n",
    "    if widgetDict[k].value==True:\n",
    "        UsedClasses.append(k)\n",
    "if(len(UsedClasses)<2):\n",
    "    print(\"Something is wrong here. we need at least 2 classes!\")\n"
   ]
  },
  {
   "cell_type": "code",
   "execution_count": null,
   "metadata": {},
   "outputs": [],
   "source": []
  },
  {
   "cell_type": "code",
   "execution_count": null,
   "metadata": {},
   "outputs": [],
   "source": [
    "UsedClasses=['street_music' ,'siren' ,'jackhammer' ,'engine_idling' ,'drilling' ,'dog_bark' ,'children_playing' ,'air_conditioner']"
   ]
  },
  {
   "cell_type": "code",
   "execution_count": 3,
   "metadata": {},
   "outputs": [],
   "source": [
    "UsedClasses=['street_music' ,'siren' ,'children_playing' ,'dog_bark']"
   ]
  },
  {
   "cell_type": "markdown",
   "metadata": {},
   "source": [
    "## Loading data set\n",
    "If test set is not defined previously, this function pulls a test set from the training set using a 80/20%split"
   ]
  },
  {
   "cell_type": "code",
   "execution_count": 4,
   "metadata": {},
   "outputs": [],
   "source": [
    "device = torch.device(\"cuda\" if torch.cuda.is_available() else \"cpu\")\n",
    "#device = \"cpu\""
   ]
  },
  {
   "cell_type": "code",
   "execution_count": 5,
   "metadata": {},
   "outputs": [],
   "source": [
    "ROOT='../AudioData/'\n",
    "\n",
    "class AudioData(torch.utils.data.Dataset):\n",
    "            \"\"\"Face Landmarks dataset.\"\"\"\n",
    "            def __init__(self, classNumber, ClassName,root_dir,device):\n",
    "                \"\"\"\n",
    "                Args:\n",
    "                    root_dir (string): Directory with all the images.\n",
    "                    transform (callable, optional): Optional transform to be applied\n",
    "                        on a sample.\n",
    "                \"\"\"\n",
    "                self.root_dir = root_dir\n",
    "                self.ClassName=ClassName\n",
    "                self.classNumber=classNumber\n",
    "                #self.fileList=[]\n",
    "                self.audioList=[]\n",
    "                for f in os.listdir(root_dir):\n",
    "                    if(f.endswith('.DS_Store')):\n",
    "                        continue\n",
    "                    if librosa.get_duration(filename=os.path.join(root_dir,f))>=1.06:\n",
    "                        y, sr = librosa.load(os.path.join(root_dir,f),duration=1.05, sr=22050,mono=True)\n",
    "                        #print(len(y))\n",
    "                        self.audioList.append(np.array(y))\n",
    "                        #self.fileList.append(f)\n",
    "                self.device = device\n",
    "                print(\"Done with class\", self.ClassName,len(self.audioList),len(self.audioList[0]));\n",
    "            \n",
    "            def __len__(self):\n",
    "                return len(self.audioList) # self.fileList\n",
    "            \n",
    "            def __getitem__(self, idx):\n",
    "                if torch.is_tensor(idx):\n",
    "                    idx = idx.tolist()\n",
    "                #audio_path = os.path.join(self.root_dir,self.fileList[idx])\n",
    "               \n",
    "                #sr, song = wavfile.read(audio_path) # Loading your audio\n",
    "               # data_, samplerate = sf.read(audio_path,always_2d=True)\n",
    "                #data=data_.T[0]\n",
    "                 # Your new sampling rate\n",
    "                #new_rate = 22050\n",
    "\n",
    "                # Resample data\n",
    "               # number_of_samples = round(len(data) * float(new_rate) / samplerate)\n",
    "                #data = sps.resample(data, number_of_samples)\n",
    "                #y, sr = librosa.load(audio_path,duration=0.41, sr=22050,mono=True)\n",
    "                \n",
    "                x = self.audioList[idx][0:22050]  # y[0:8820]\n",
    "                #print(x.shape,audio_path)\n",
    "                x = torch.tensor(x, device=self.device).float() \n",
    "                return x,self.classNumber"
   ]
  },
  {
   "cell_type": "code",
   "execution_count": null,
   "metadata": {},
   "outputs": [],
   "source": [
    "classes.index(\"air_conditioner\")"
   ]
  },
  {
   "cell_type": "code",
   "execution_count": 6,
   "metadata": {
    "ExecuteTime": {
     "end_time": "2020-08-02T21:29:44.497868Z",
     "start_time": "2020-08-02T21:29:44.446826Z"
    }
   },
   "outputs": [
    {
     "name": "stdout",
     "output_type": "stream",
     "text": [
      "Done with class street_music 1000 23153\n",
      "Done with class siren 915 23153\n",
      "Done with class children_playing 999 23153\n",
      "Done with class dog_bark 853 23153\n"
     ]
    }
   ],
   "source": [
    "classes =  tuple(UsedClasses)\n",
    "\n",
    "\n",
    "AllData=[]\n",
    "\n",
    "for cl in classes:   \n",
    "    trainPath=os.path.join(ROOT,cl)\n",
    "    if os.path.isdir (trainPath):\n",
    "        AllData.append( AudioData(classes.index(cl), cl,trainPath,device))\n",
    "    else:\n",
    "        print('Coud not find path',trainPath);\n",
    "        \n",
    "\n",
    "AllDataSets = torch.utils.data.ConcatDataset(AllData);\n",
    "trainSize = int(len(AllDataSets)*0.8);\n",
    "testSize = len(AllDataSets) - trainSize;\n",
    "\n",
    "\n",
    "TrainDataSet, TestDataSet = torch.utils.data.random_split(AllDataSets, [trainSize, testSize],generator=torch.Generator().manual_seed(42))\n",
    "trainloader = torch.utils.data.DataLoader(TrainDataSet, batch_size=1024, shuffle=True)\n",
    "testloader = torch.utils.data.DataLoader(TestDataSet, batch_size=1024, shuffle=False)"
   ]
  },
  {
   "cell_type": "code",
   "execution_count": null,
   "metadata": {},
   "outputs": [],
   "source": [
    "[street_music ,siren ,jackhammer ,engine_idling ,drilling ,dog_bark ,children_playing ,air_conditioner]"
   ]
  },
  {
   "cell_type": "code",
   "execution_count": null,
   "metadata": {},
   "outputs": [],
   "source": [
    "for i, (inputs, labels) in enumerate(trainloader, 0):\n",
    "    print(inputs.shape)\n",
    "    break"
   ]
  },
  {
   "cell_type": "markdown",
   "metadata": {},
   "source": [
    "## Load pretrained model \n"
   ]
  },
  {
   "cell_type": "code",
   "execution_count": 7,
   "metadata": {},
   "outputs": [],
   "source": [
    "import nnAudio"
   ]
  },
  {
   "cell_type": "code",
   "execution_count": 11,
   "metadata": {
    "ExecuteTime": {
     "end_time": "2020-08-02T20:36:02.653653Z",
     "start_time": "2020-08-02T20:36:02.539338Z"
    }
   },
   "outputs": [],
   "source": [
    "class Model(torch.nn.Module):\n",
    "    def __init__(self,classCount):\n",
    "        super(Model,self).__init__()\n",
    "        \n",
    "        self.mel = nnAudio.Spectrogram.MelSpectrogram(n_fft=1536, n_mels=192, trainable_mel=True, trainable_STFT=True).cuda(device) # Using device='cuda:0'\n",
    "        torch.nn.init.xavier_uniform_(self.mel.mel_basis)\n",
    "        self.CNN_layer1 = torch.nn.Conv2d(1,4, kernel_size=(12,12)).cuda(device)\n",
    "        self.CNN_layer2 = torch.nn.Conv2d(4,16, kernel_size=(24,24)).cuda(device)\n",
    "        self.mpool = nn.MaxPool2d(4)\n",
    "        self.fc1 = torch.nn.Linear(16* 39* 2,128).cuda(device)\n",
    "        self.fc2 = torch.nn.Linear(128,classCount).cuda(device)\n",
    "    def visualize(sound):\n",
    "        return self.mel(sound)\n",
    "    def forward(self, x):\n",
    "        x = self.mel(x)\n",
    "        #print(x.shape)\n",
    "        x = self.CNN_layer1(x.unsqueeze(1))\n",
    "        x = self.CNN_layer2(x)\n",
    "        x = self.mpool(x)\n",
    "        print(x.shape)\n",
    "        x = x.view(x.data.size()[0],16* 39* 2)\n",
    "        x = self.fc1(torch.relu(x))\n",
    "        x = self.fc2(torch.relu(x))\n",
    "        return torch.softmax(x,dim=1)"
   ]
  },
  {
   "cell_type": "code",
   "execution_count": 12,
   "metadata": {
    "ExecuteTime": {
     "end_time": "2020-08-02T20:42:16.669357Z",
     "start_time": "2020-08-02T20:42:16.661468Z"
    }
   },
   "outputs": [
    {
     "name": "stdout",
     "output_type": "stream",
     "text": [
      "STFT kernels created, time used = 0.0449 seconds\n",
      "STFT filter created, time used = 0.0030 seconds\n",
      "Mel filter created, time used = 0.0030 seconds\n"
     ]
    }
   ],
   "source": [
    "model=Model(len(classes))\n",
    "model.to(device)\n",
    "criterion = nn.CrossEntropyLoss()\n",
    "optimizer = torch.optim.Adam(model.parameters(), lr=1e-5)\n",
    "train_epoch_losses=[]\n",
    "test_epoch_losses=[]\n",
    "epoch=0"
   ]
  },
  {
   "cell_type": "code",
   "execution_count": 13,
   "metadata": {
    "ExecuteTime": {
     "end_time": "2020-08-02T20:44:00.245670Z",
     "start_time": "2020-08-02T20:42:29.699734Z"
    }
   },
   "outputs": [
    {
     "name": "stdout",
     "output_type": "stream",
     "text": [
      "Starting epoch: 1\n",
      "torch.Size([1024, 16, 39, 2])\n",
      "torch.Size([1024, 16, 39, 2])\n",
      "torch.Size([965, 16, 39, 2])\n",
      "About to test the performance on the test set.\n",
      "torch.Size([754, 16, 39, 2])\n",
      "2 train loss: 1.438 and test loss: 1.428, and it took us: 1.89 seconds.\n",
      "Starting epoch: 2\n",
      "torch.Size([1024, 16, 39, 2])\n",
      "torch.Size([1024, 16, 39, 2])\n",
      "torch.Size([965, 16, 39, 2])\n",
      "About to test the performance on the test set.\n",
      "torch.Size([754, 16, 39, 2])\n",
      "3 train loss: 1.426 and test loss: 1.428, and it took us: 1.66 seconds.\n",
      "Starting epoch: 3\n",
      "torch.Size([1024, 16, 39, 2])\n",
      "torch.Size([1024, 16, 39, 2])\n",
      "torch.Size([965, 16, 39, 2])\n",
      "About to test the performance on the test set.\n",
      "torch.Size([754, 16, 39, 2])\n",
      "4 train loss: 1.413 and test loss: 1.421, and it took us: 1.53 seconds.\n",
      "Starting epoch: 4\n",
      "torch.Size([1024, 16, 39, 2])\n",
      "torch.Size([1024, 16, 39, 2])\n",
      "torch.Size([965, 16, 39, 2])\n",
      "About to test the performance on the test set.\n",
      "torch.Size([754, 16, 39, 2])\n",
      "5 train loss: 1.412 and test loss: 1.419, and it took us: 1.58 seconds.\n",
      "Starting epoch: 5\n",
      "torch.Size([1024, 16, 39, 2])\n",
      "torch.Size([1024, 16, 39, 2])\n",
      "torch.Size([965, 16, 39, 2])\n",
      "About to test the performance on the test set.\n",
      "torch.Size([754, 16, 39, 2])\n",
      "6 train loss: 1.405 and test loss: 1.415, and it took us: 1.58 seconds.\n",
      "Starting epoch: 6\n",
      "torch.Size([1024, 16, 39, 2])\n",
      "torch.Size([1024, 16, 39, 2])\n",
      "torch.Size([965, 16, 39, 2])\n",
      "About to test the performance on the test set.\n",
      "torch.Size([754, 16, 39, 2])\n",
      "7 train loss: 1.400 and test loss: 1.414, and it took us: 1.67 seconds.\n",
      "Starting epoch: 7\n",
      "torch.Size([1024, 16, 39, 2])\n",
      "torch.Size([1024, 16, 39, 2])\n",
      "torch.Size([965, 16, 39, 2])\n",
      "About to test the performance on the test set.\n",
      "torch.Size([754, 16, 39, 2])\n",
      "8 train loss: 1.395 and test loss: 1.412, and it took us: 1.57 seconds.\n",
      "Starting epoch: 8\n",
      "torch.Size([1024, 16, 39, 2])\n",
      "torch.Size([1024, 16, 39, 2])\n",
      "torch.Size([965, 16, 39, 2])\n",
      "About to test the performance on the test set.\n",
      "torch.Size([754, 16, 39, 2])\n",
      "9 train loss: 1.392 and test loss: 1.410, and it took us: 1.57 seconds.\n",
      "Starting epoch: 9\n",
      "torch.Size([1024, 16, 39, 2])\n",
      "torch.Size([1024, 16, 39, 2])\n",
      "torch.Size([965, 16, 39, 2])\n",
      "About to test the performance on the test set.\n",
      "torch.Size([754, 16, 39, 2])\n",
      "10 train loss: 1.388 and test loss: 1.408, and it took us: 1.61 seconds.\n",
      "Starting epoch: 10\n",
      "torch.Size([1024, 16, 39, 2])\n",
      "torch.Size([1024, 16, 39, 2])\n",
      "torch.Size([965, 16, 39, 2])\n",
      "About to test the performance on the test set.\n",
      "torch.Size([754, 16, 39, 2])\n",
      "11 train loss: 1.385 and test loss: 1.408, and it took us: 1.56 seconds.\n",
      "Starting epoch: 11\n",
      "torch.Size([1024, 16, 39, 2])\n",
      "torch.Size([1024, 16, 39, 2])\n",
      "torch.Size([965, 16, 39, 2])\n",
      "About to test the performance on the test set.\n",
      "torch.Size([754, 16, 39, 2])\n",
      "12 train loss: 1.381 and test loss: 1.407, and it took us: 1.60 seconds.\n",
      "Starting epoch: 12\n",
      "torch.Size([1024, 16, 39, 2])\n",
      "torch.Size([1024, 16, 39, 2])\n",
      "torch.Size([965, 16, 39, 2])\n",
      "About to test the performance on the test set.\n",
      "torch.Size([754, 16, 39, 2])\n",
      "13 train loss: 1.378 and test loss: 1.404, and it took us: 1.61 seconds.\n",
      "Starting epoch: 13\n",
      "torch.Size([1024, 16, 39, 2])\n",
      "torch.Size([1024, 16, 39, 2])\n",
      "torch.Size([965, 16, 39, 2])\n",
      "About to test the performance on the test set.\n",
      "torch.Size([754, 16, 39, 2])\n",
      "14 train loss: 1.375 and test loss: 1.403, and it took us: 1.56 seconds.\n",
      "Starting epoch: 14\n",
      "torch.Size([1024, 16, 39, 2])\n",
      "torch.Size([1024, 16, 39, 2])\n",
      "torch.Size([965, 16, 39, 2])\n",
      "About to test the performance on the test set.\n",
      "torch.Size([754, 16, 39, 2])\n",
      "15 train loss: 1.373 and test loss: 1.404, and it took us: 1.60 seconds.\n",
      "Starting epoch: 15\n",
      "torch.Size([1024, 16, 39, 2])\n",
      "torch.Size([1024, 16, 39, 2])\n",
      "torch.Size([965, 16, 39, 2])\n",
      "About to test the performance on the test set.\n",
      "torch.Size([754, 16, 39, 2])\n",
      "16 train loss: 1.370 and test loss: 1.403, and it took us: 1.65 seconds.\n",
      "Starting epoch: 16\n",
      "torch.Size([1024, 16, 39, 2])\n",
      "torch.Size([1024, 16, 39, 2])\n",
      "torch.Size([965, 16, 39, 2])\n",
      "About to test the performance on the test set.\n",
      "torch.Size([754, 16, 39, 2])\n",
      "17 train loss: 1.367 and test loss: 1.402, and it took us: 1.57 seconds.\n",
      "Starting epoch: 17\n",
      "torch.Size([1024, 16, 39, 2])\n",
      "torch.Size([1024, 16, 39, 2])\n",
      "torch.Size([965, 16, 39, 2])\n",
      "About to test the performance on the test set.\n",
      "torch.Size([754, 16, 39, 2])\n",
      "18 train loss: 1.364 and test loss: 1.404, and it took us: 1.62 seconds.\n",
      "Starting epoch: 18\n",
      "torch.Size([1024, 16, 39, 2])\n",
      "torch.Size([1024, 16, 39, 2])\n",
      "torch.Size([965, 16, 39, 2])\n",
      "About to test the performance on the test set.\n",
      "torch.Size([754, 16, 39, 2])\n",
      "19 train loss: 1.363 and test loss: 1.401, and it took us: 1.71 seconds.\n",
      "Starting epoch: 19\n",
      "torch.Size([1024, 16, 39, 2])\n",
      "torch.Size([1024, 16, 39, 2])\n",
      "torch.Size([965, 16, 39, 2])\n",
      "About to test the performance on the test set.\n",
      "torch.Size([754, 16, 39, 2])\n",
      "20 train loss: 1.359 and test loss: 1.396, and it took us: 1.57 seconds.\n",
      "Starting epoch: 20\n",
      "torch.Size([1024, 16, 39, 2])\n",
      "torch.Size([1024, 16, 39, 2])\n",
      "torch.Size([965, 16, 39, 2])\n",
      "About to test the performance on the test set.\n",
      "torch.Size([754, 16, 39, 2])\n",
      "21 train loss: 1.358 and test loss: 1.395, and it took us: 1.62 seconds.\n",
      "Starting epoch: 21\n",
      "torch.Size([1024, 16, 39, 2])\n",
      "torch.Size([1024, 16, 39, 2])\n",
      "torch.Size([965, 16, 39, 2])\n",
      "About to test the performance on the test set.\n",
      "torch.Size([754, 16, 39, 2])\n",
      "22 train loss: 1.355 and test loss: 1.397, and it took us: 1.65 seconds.\n",
      "Starting epoch: 22\n",
      "torch.Size([1024, 16, 39, 2])\n",
      "torch.Size([1024, 16, 39, 2])\n",
      "torch.Size([965, 16, 39, 2])\n",
      "About to test the performance on the test set.\n",
      "torch.Size([754, 16, 39, 2])\n",
      "23 train loss: 1.354 and test loss: 1.395, and it took us: 1.57 seconds.\n",
      "Starting epoch: 23\n",
      "torch.Size([1024, 16, 39, 2])\n",
      "torch.Size([1024, 16, 39, 2])\n",
      "torch.Size([965, 16, 39, 2])\n",
      "About to test the performance on the test set.\n",
      "torch.Size([754, 16, 39, 2])\n",
      "24 train loss: 1.352 and test loss: 1.391, and it took us: 1.59 seconds.\n",
      "Starting epoch: 24\n",
      "torch.Size([1024, 16, 39, 2])\n",
      "torch.Size([1024, 16, 39, 2])\n",
      "torch.Size([965, 16, 39, 2])\n",
      "About to test the performance on the test set.\n",
      "torch.Size([754, 16, 39, 2])\n",
      "25 train loss: 1.350 and test loss: 1.388, and it took us: 1.65 seconds.\n",
      "Starting epoch: 25\n",
      "torch.Size([1024, 16, 39, 2])\n",
      "torch.Size([1024, 16, 39, 2])\n",
      "torch.Size([965, 16, 39, 2])\n",
      "About to test the performance on the test set.\n",
      "torch.Size([754, 16, 39, 2])\n",
      "26 train loss: 1.348 and test loss: 1.387, and it took us: 1.57 seconds.\n",
      "Starting epoch: 26\n",
      "torch.Size([1024, 16, 39, 2])\n",
      "torch.Size([1024, 16, 39, 2])\n",
      "torch.Size([965, 16, 39, 2])\n",
      "About to test the performance on the test set.\n",
      "torch.Size([754, 16, 39, 2])\n",
      "27 train loss: 1.346 and test loss: 1.386, and it took us: 1.61 seconds.\n",
      "Starting epoch: 27\n",
      "torch.Size([1024, 16, 39, 2])\n",
      "torch.Size([1024, 16, 39, 2])\n",
      "torch.Size([965, 16, 39, 2])\n",
      "About to test the performance on the test set.\n",
      "torch.Size([754, 16, 39, 2])\n",
      "28 train loss: 1.345 and test loss: 1.385, and it took us: 1.71 seconds.\n",
      "Starting epoch: 28\n",
      "torch.Size([1024, 16, 39, 2])\n",
      "torch.Size([1024, 16, 39, 2])\n",
      "torch.Size([965, 16, 39, 2])\n",
      "About to test the performance on the test set.\n",
      "torch.Size([754, 16, 39, 2])\n",
      "29 train loss: 1.343 and test loss: 1.385, and it took us: 1.58 seconds.\n",
      "Starting epoch: 29\n",
      "torch.Size([1024, 16, 39, 2])\n",
      "torch.Size([1024, 16, 39, 2])\n",
      "torch.Size([965, 16, 39, 2])\n",
      "About to test the performance on the test set.\n",
      "torch.Size([754, 16, 39, 2])\n",
      "30 train loss: 1.341 and test loss: 1.383, and it took us: 1.63 seconds.\n",
      "Starting epoch: 30\n",
      "torch.Size([1024, 16, 39, 2])\n",
      "torch.Size([1024, 16, 39, 2])\n",
      "torch.Size([965, 16, 39, 2])\n",
      "About to test the performance on the test set.\n",
      "torch.Size([754, 16, 39, 2])\n",
      "31 train loss: 1.340 and test loss: 1.382, and it took us: 1.69 seconds.\n",
      "Starting epoch: 31\n",
      "torch.Size([1024, 16, 39, 2])\n",
      "torch.Size([1024, 16, 39, 2])\n",
      "torch.Size([965, 16, 39, 2])\n",
      "About to test the performance on the test set.\n",
      "torch.Size([754, 16, 39, 2])\n",
      "32 train loss: 1.339 and test loss: 1.382, and it took us: 1.57 seconds.\n",
      "Starting epoch: 32\n",
      "torch.Size([1024, 16, 39, 2])\n",
      "torch.Size([1024, 16, 39, 2])\n",
      "torch.Size([965, 16, 39, 2])\n",
      "About to test the performance on the test set.\n",
      "torch.Size([754, 16, 39, 2])\n",
      "33 train loss: 1.337 and test loss: 1.381, and it took us: 1.62 seconds.\n",
      "Starting epoch: 33\n"
     ]
    },
    {
     "name": "stdout",
     "output_type": "stream",
     "text": [
      "torch.Size([1024, 16, 39, 2])\n",
      "torch.Size([1024, 16, 39, 2])\n",
      "torch.Size([965, 16, 39, 2])\n",
      "About to test the performance on the test set.\n",
      "torch.Size([754, 16, 39, 2])\n",
      "34 train loss: 1.336 and test loss: 1.380, and it took us: 1.61 seconds.\n",
      "Starting epoch: 34\n",
      "torch.Size([1024, 16, 39, 2])\n",
      "torch.Size([1024, 16, 39, 2])\n",
      "torch.Size([965, 16, 39, 2])\n",
      "About to test the performance on the test set.\n",
      "torch.Size([754, 16, 39, 2])\n",
      "35 train loss: 1.335 and test loss: 1.380, and it took us: 1.64 seconds.\n",
      "Starting epoch: 35\n",
      "torch.Size([1024, 16, 39, 2])\n",
      "torch.Size([1024, 16, 39, 2])\n",
      "torch.Size([965, 16, 39, 2])\n",
      "About to test the performance on the test set.\n",
      "torch.Size([754, 16, 39, 2])\n",
      "36 train loss: 1.333 and test loss: 1.379, and it took us: 1.62 seconds.\n",
      "Starting epoch: 36\n",
      "torch.Size([1024, 16, 39, 2])\n",
      "torch.Size([1024, 16, 39, 2])\n",
      "torch.Size([965, 16, 39, 2])\n",
      "About to test the performance on the test set.\n",
      "torch.Size([754, 16, 39, 2])\n",
      "37 train loss: 1.332 and test loss: 1.379, and it took us: 1.67 seconds.\n",
      "Starting epoch: 37\n",
      "torch.Size([1024, 16, 39, 2])\n",
      "torch.Size([1024, 16, 39, 2])\n",
      "torch.Size([965, 16, 39, 2])\n",
      "About to test the performance on the test set.\n",
      "torch.Size([754, 16, 39, 2])\n",
      "38 train loss: 1.331 and test loss: 1.379, and it took us: 1.65 seconds.\n",
      "Starting epoch: 38\n",
      "torch.Size([1024, 16, 39, 2])\n",
      "torch.Size([1024, 16, 39, 2])\n",
      "torch.Size([965, 16, 39, 2])\n",
      "About to test the performance on the test set.\n",
      "torch.Size([754, 16, 39, 2])\n",
      "39 train loss: 1.330 and test loss: 1.380, and it took us: 1.61 seconds.\n",
      "Starting epoch: 39\n",
      "torch.Size([1024, 16, 39, 2])\n",
      "torch.Size([1024, 16, 39, 2])\n",
      "torch.Size([965, 16, 39, 2])\n",
      "About to test the performance on the test set.\n",
      "torch.Size([754, 16, 39, 2])\n",
      "40 train loss: 1.329 and test loss: 1.377, and it took us: 1.61 seconds.\n",
      "Starting epoch: 40\n",
      "torch.Size([1024, 16, 39, 2])\n",
      "torch.Size([1024, 16, 39, 2])\n",
      "torch.Size([965, 16, 39, 2])\n",
      "About to test the performance on the test set.\n",
      "torch.Size([754, 16, 39, 2])\n",
      "41 train loss: 1.328 and test loss: 1.376, and it took us: 1.63 seconds.\n",
      "Starting epoch: 41\n",
      "torch.Size([1024, 16, 39, 2])\n",
      "torch.Size([1024, 16, 39, 2])\n",
      "torch.Size([965, 16, 39, 2])\n",
      "About to test the performance on the test set.\n",
      "torch.Size([754, 16, 39, 2])\n",
      "42 train loss: 1.327 and test loss: 1.375, and it took us: 1.62 seconds.\n",
      "Starting epoch: 42\n",
      "torch.Size([1024, 16, 39, 2])\n",
      "torch.Size([1024, 16, 39, 2])\n",
      "torch.Size([965, 16, 39, 2])\n",
      "About to test the performance on the test set.\n",
      "torch.Size([754, 16, 39, 2])\n",
      "43 train loss: 1.325 and test loss: 1.377, and it took us: 1.63 seconds.\n",
      "Starting epoch: 43\n",
      "torch.Size([1024, 16, 39, 2])\n",
      "torch.Size([1024, 16, 39, 2])\n",
      "torch.Size([965, 16, 39, 2])\n",
      "About to test the performance on the test set.\n",
      "torch.Size([754, 16, 39, 2])\n",
      "44 train loss: 1.324 and test loss: 1.376, and it took us: 1.64 seconds.\n",
      "Starting epoch: 44\n",
      "torch.Size([1024, 16, 39, 2])\n",
      "torch.Size([1024, 16, 39, 2])\n",
      "torch.Size([965, 16, 39, 2])\n",
      "About to test the performance on the test set.\n",
      "torch.Size([754, 16, 39, 2])\n",
      "45 train loss: 1.322 and test loss: 1.375, and it took us: 1.62 seconds.\n",
      "Starting epoch: 45\n",
      "torch.Size([1024, 16, 39, 2])\n",
      "torch.Size([1024, 16, 39, 2])\n",
      "torch.Size([965, 16, 39, 2])\n",
      "About to test the performance on the test set.\n",
      "torch.Size([754, 16, 39, 2])\n",
      "46 train loss: 1.320 and test loss: 1.371, and it took us: 1.65 seconds.\n",
      "Starting epoch: 46\n",
      "torch.Size([1024, 16, 39, 2])\n",
      "torch.Size([1024, 16, 39, 2])\n",
      "torch.Size([965, 16, 39, 2])\n",
      "About to test the performance on the test set.\n",
      "torch.Size([754, 16, 39, 2])\n",
      "47 train loss: 1.314 and test loss: 1.365, and it took us: 1.67 seconds.\n",
      "Starting epoch: 47\n",
      "torch.Size([1024, 16, 39, 2])\n",
      "torch.Size([1024, 16, 39, 2])\n",
      "torch.Size([965, 16, 39, 2])\n",
      "About to test the performance on the test set.\n",
      "torch.Size([754, 16, 39, 2])\n",
      "48 train loss: 1.308 and test loss: 1.355, and it took us: 1.65 seconds.\n",
      "Starting epoch: 48\n",
      "torch.Size([1024, 16, 39, 2])\n",
      "torch.Size([1024, 16, 39, 2])\n",
      "torch.Size([965, 16, 39, 2])\n",
      "About to test the performance on the test set.\n",
      "torch.Size([754, 16, 39, 2])\n",
      "49 train loss: 1.306 and test loss: 1.347, and it took us: 1.65 seconds.\n",
      "Starting epoch: 49\n",
      "torch.Size([1024, 16, 39, 2])\n",
      "torch.Size([1024, 16, 39, 2])\n",
      "torch.Size([965, 16, 39, 2])\n",
      "About to test the performance on the test set.\n",
      "torch.Size([754, 16, 39, 2])\n",
      "50 train loss: 1.303 and test loss: 1.347, and it took us: 1.72 seconds.\n",
      "Starting epoch: 50\n",
      "torch.Size([1024, 16, 39, 2])\n",
      "torch.Size([1024, 16, 39, 2])\n",
      "torch.Size([965, 16, 39, 2])\n",
      "About to test the performance on the test set.\n",
      "torch.Size([754, 16, 39, 2])\n",
      "51 train loss: 1.299 and test loss: 1.350, and it took us: 1.64 seconds.\n",
      "Starting epoch: 51\n",
      "torch.Size([1024, 16, 39, 2])\n",
      "torch.Size([1024, 16, 39, 2])\n",
      "torch.Size([965, 16, 39, 2])\n",
      "About to test the performance on the test set.\n",
      "torch.Size([754, 16, 39, 2])\n",
      "52 train loss: 1.293 and test loss: 1.342, and it took us: 1.67 seconds.\n",
      "Starting epoch: 52\n",
      "torch.Size([1024, 16, 39, 2])\n",
      "torch.Size([1024, 16, 39, 2])\n",
      "torch.Size([965, 16, 39, 2])\n",
      "About to test the performance on the test set.\n",
      "torch.Size([754, 16, 39, 2])\n",
      "53 train loss: 1.293 and test loss: 1.341, and it took us: 1.68 seconds.\n",
      "Starting epoch: 53\n",
      "torch.Size([1024, 16, 39, 2])\n",
      "torch.Size([1024, 16, 39, 2])\n",
      "torch.Size([965, 16, 39, 2])\n",
      "About to test the performance on the test set.\n",
      "torch.Size([754, 16, 39, 2])\n",
      "54 train loss: 1.286 and test loss: 1.341, and it took us: 1.66 seconds.\n",
      "Starting epoch: 54\n",
      "torch.Size([1024, 16, 39, 2])\n",
      "torch.Size([1024, 16, 39, 2])\n",
      "torch.Size([965, 16, 39, 2])\n",
      "About to test the performance on the test set.\n",
      "torch.Size([754, 16, 39, 2])\n",
      "55 train loss: 1.282 and test loss: 1.338, and it took us: 1.69 seconds.\n",
      "Starting epoch: 55\n",
      "torch.Size([1024, 16, 39, 2])\n",
      "torch.Size([1024, 16, 39, 2])\n",
      "torch.Size([965, 16, 39, 2])\n",
      "About to test the performance on the test set.\n",
      "torch.Size([754, 16, 39, 2])\n",
      "56 train loss: 1.278 and test loss: 1.330, and it took us: 1.84 seconds.\n",
      "Starting epoch: 56\n",
      "torch.Size([1024, 16, 39, 2])\n",
      "torch.Size([1024, 16, 39, 2])\n",
      "torch.Size([965, 16, 39, 2])\n",
      "About to test the performance on the test set.\n",
      "torch.Size([754, 16, 39, 2])\n",
      "57 train loss: 1.273 and test loss: 1.325, and it took us: 1.68 seconds.\n",
      "Starting epoch: 57\n",
      "torch.Size([1024, 16, 39, 2])\n",
      "torch.Size([1024, 16, 39, 2])\n",
      "torch.Size([965, 16, 39, 2])\n",
      "About to test the performance on the test set.\n",
      "torch.Size([754, 16, 39, 2])\n",
      "58 train loss: 1.268 and test loss: 1.324, and it took us: 1.65 seconds.\n",
      "Starting epoch: 58\n",
      "torch.Size([1024, 16, 39, 2])\n",
      "torch.Size([1024, 16, 39, 2])\n",
      "torch.Size([965, 16, 39, 2])\n",
      "About to test the performance on the test set.\n",
      "torch.Size([754, 16, 39, 2])\n",
      "59 train loss: 1.263 and test loss: 1.320, and it took us: 1.79 seconds.\n",
      "Starting epoch: 59\n",
      "torch.Size([1024, 16, 39, 2])\n",
      "torch.Size([1024, 16, 39, 2])\n",
      "torch.Size([965, 16, 39, 2])\n",
      "About to test the performance on the test set.\n",
      "torch.Size([754, 16, 39, 2])\n",
      "60 train loss: 1.259 and test loss: 1.317, and it took us: 1.64 seconds.\n",
      "Starting epoch: 60\n",
      "torch.Size([1024, 16, 39, 2])\n",
      "torch.Size([1024, 16, 39, 2])\n",
      "torch.Size([965, 16, 39, 2])\n",
      "About to test the performance on the test set.\n",
      "torch.Size([754, 16, 39, 2])\n",
      "61 train loss: 1.255 and test loss: 1.314, and it took us: 1.74 seconds.\n",
      "Starting epoch: 61\n",
      "torch.Size([1024, 16, 39, 2])\n",
      "torch.Size([1024, 16, 39, 2])\n",
      "torch.Size([965, 16, 39, 2])\n",
      "About to test the performance on the test set.\n",
      "torch.Size([754, 16, 39, 2])\n",
      "62 train loss: 1.252 and test loss: 1.310, and it took us: 1.74 seconds.\n",
      "Starting epoch: 62\n",
      "torch.Size([1024, 16, 39, 2])\n",
      "torch.Size([1024, 16, 39, 2])\n",
      "torch.Size([965, 16, 39, 2])\n",
      "About to test the performance on the test set.\n",
      "torch.Size([754, 16, 39, 2])\n",
      "63 train loss: 1.248 and test loss: 1.309, and it took us: 1.69 seconds.\n",
      "Starting epoch: 63\n",
      "torch.Size([1024, 16, 39, 2])\n",
      "torch.Size([1024, 16, 39, 2])\n",
      "torch.Size([965, 16, 39, 2])\n",
      "About to test the performance on the test set.\n",
      "torch.Size([754, 16, 39, 2])\n",
      "64 train loss: 1.244 and test loss: 1.306, and it took us: 1.73 seconds.\n",
      "Starting epoch: 64\n",
      "torch.Size([1024, 16, 39, 2])\n",
      "torch.Size([1024, 16, 39, 2])\n",
      "torch.Size([965, 16, 39, 2])\n",
      "About to test the performance on the test set.\n",
      "torch.Size([754, 16, 39, 2])\n",
      "65 train loss: 1.241 and test loss: 1.304, and it took us: 1.73 seconds.\n",
      "Starting epoch: 65\n"
     ]
    },
    {
     "name": "stdout",
     "output_type": "stream",
     "text": [
      "torch.Size([1024, 16, 39, 2])\n",
      "torch.Size([1024, 16, 39, 2])\n",
      "torch.Size([965, 16, 39, 2])\n",
      "About to test the performance on the test set.\n",
      "torch.Size([754, 16, 39, 2])\n",
      "66 train loss: 1.238 and test loss: 1.303, and it took us: 1.69 seconds.\n",
      "Starting epoch: 66\n",
      "torch.Size([1024, 16, 39, 2])\n",
      "torch.Size([1024, 16, 39, 2])\n",
      "torch.Size([965, 16, 39, 2])\n",
      "About to test the performance on the test set.\n",
      "torch.Size([754, 16, 39, 2])\n",
      "67 train loss: 1.235 and test loss: 1.301, and it took us: 1.74 seconds.\n",
      "Starting epoch: 67\n",
      "torch.Size([1024, 16, 39, 2])\n",
      "torch.Size([1024, 16, 39, 2])\n",
      "torch.Size([965, 16, 39, 2])\n",
      "About to test the performance on the test set.\n",
      "torch.Size([754, 16, 39, 2])\n",
      "68 train loss: 1.233 and test loss: 1.298, and it took us: 1.71 seconds.\n",
      "Starting epoch: 68\n",
      "torch.Size([1024, 16, 39, 2])\n",
      "torch.Size([1024, 16, 39, 2])\n",
      "torch.Size([965, 16, 39, 2])\n",
      "About to test the performance on the test set.\n",
      "torch.Size([754, 16, 39, 2])\n",
      "69 train loss: 1.231 and test loss: 1.295, and it took us: 1.71 seconds.\n",
      "Starting epoch: 69\n",
      "torch.Size([1024, 16, 39, 2])\n",
      "torch.Size([1024, 16, 39, 2])\n",
      "torch.Size([965, 16, 39, 2])\n",
      "About to test the performance on the test set.\n",
      "torch.Size([754, 16, 39, 2])\n",
      "70 train loss: 1.228 and test loss: 1.296, and it took us: 1.77 seconds.\n",
      "Starting epoch: 70\n",
      "torch.Size([1024, 16, 39, 2])\n",
      "torch.Size([1024, 16, 39, 2])\n",
      "torch.Size([965, 16, 39, 2])\n",
      "About to test the performance on the test set.\n",
      "torch.Size([754, 16, 39, 2])\n",
      "71 train loss: 1.226 and test loss: 1.294, and it took us: 1.68 seconds.\n",
      "Starting epoch: 71\n",
      "torch.Size([1024, 16, 39, 2])\n",
      "torch.Size([1024, 16, 39, 2])\n",
      "torch.Size([965, 16, 39, 2])\n",
      "About to test the performance on the test set.\n",
      "torch.Size([754, 16, 39, 2])\n",
      "72 train loss: 1.223 and test loss: 1.294, and it took us: 1.81 seconds.\n",
      "Starting epoch: 72\n",
      "torch.Size([1024, 16, 39, 2])\n",
      "torch.Size([1024, 16, 39, 2])\n",
      "torch.Size([965, 16, 39, 2])\n",
      "About to test the performance on the test set.\n",
      "torch.Size([754, 16, 39, 2])\n",
      "73 train loss: 1.222 and test loss: 1.289, and it took us: 1.72 seconds.\n",
      "Starting epoch: 73\n",
      "torch.Size([1024, 16, 39, 2])\n",
      "torch.Size([1024, 16, 39, 2])\n",
      "torch.Size([965, 16, 39, 2])\n",
      "About to test the performance on the test set.\n",
      "torch.Size([754, 16, 39, 2])\n",
      "74 train loss: 1.220 and test loss: 1.292, and it took us: 1.79 seconds.\n",
      "Starting epoch: 74\n",
      "torch.Size([1024, 16, 39, 2])\n",
      "torch.Size([1024, 16, 39, 2])\n",
      "torch.Size([965, 16, 39, 2])\n",
      "About to test the performance on the test set.\n",
      "torch.Size([754, 16, 39, 2])\n",
      "75 train loss: 1.219 and test loss: 1.289, and it took us: 1.66 seconds.\n",
      "Starting epoch: 75\n",
      "torch.Size([1024, 16, 39, 2])\n",
      "torch.Size([1024, 16, 39, 2])\n",
      "torch.Size([965, 16, 39, 2])\n",
      "About to test the performance on the test set.\n",
      "torch.Size([754, 16, 39, 2])\n",
      "76 train loss: 1.216 and test loss: 1.288, and it took us: 1.77 seconds.\n",
      "Starting epoch: 76\n",
      "torch.Size([1024, 16, 39, 2])\n",
      "torch.Size([1024, 16, 39, 2])\n",
      "torch.Size([965, 16, 39, 2])\n",
      "About to test the performance on the test set.\n",
      "torch.Size([754, 16, 39, 2])\n",
      "77 train loss: 1.214 and test loss: 1.284, and it took us: 1.74 seconds.\n",
      "Starting epoch: 77\n",
      "torch.Size([1024, 16, 39, 2])\n",
      "torch.Size([1024, 16, 39, 2])\n",
      "torch.Size([965, 16, 39, 2])\n",
      "About to test the performance on the test set.\n",
      "torch.Size([754, 16, 39, 2])\n",
      "78 train loss: 1.213 and test loss: 1.285, and it took us: 1.72 seconds.\n",
      "Starting epoch: 78\n",
      "torch.Size([1024, 16, 39, 2])\n",
      "torch.Size([1024, 16, 39, 2])\n",
      "torch.Size([965, 16, 39, 2])\n",
      "About to test the performance on the test set.\n",
      "torch.Size([754, 16, 39, 2])\n",
      "79 train loss: 1.212 and test loss: 1.283, and it took us: 1.77 seconds.\n",
      "Starting epoch: 79\n",
      "torch.Size([1024, 16, 39, 2])\n",
      "torch.Size([1024, 16, 39, 2])\n",
      "torch.Size([965, 16, 39, 2])\n",
      "About to test the performance on the test set.\n",
      "torch.Size([754, 16, 39, 2])\n",
      "80 train loss: 1.210 and test loss: 1.284, and it took us: 1.66 seconds.\n",
      "Starting epoch: 80\n",
      "torch.Size([1024, 16, 39, 2])\n",
      "torch.Size([1024, 16, 39, 2])\n",
      "torch.Size([965, 16, 39, 2])\n",
      "About to test the performance on the test set.\n",
      "torch.Size([754, 16, 39, 2])\n",
      "81 train loss: 1.209 and test loss: 1.283, and it took us: 1.73 seconds.\n",
      "Starting epoch: 81\n",
      "torch.Size([1024, 16, 39, 2])\n",
      "torch.Size([1024, 16, 39, 2])\n",
      "torch.Size([965, 16, 39, 2])\n",
      "About to test the performance on the test set.\n",
      "torch.Size([754, 16, 39, 2])\n",
      "82 train loss: 1.207 and test loss: 1.281, and it took us: 1.78 seconds.\n",
      "Starting epoch: 82\n",
      "torch.Size([1024, 16, 39, 2])\n",
      "torch.Size([1024, 16, 39, 2])\n",
      "torch.Size([965, 16, 39, 2])\n",
      "About to test the performance on the test set.\n",
      "torch.Size([754, 16, 39, 2])\n",
      "83 train loss: 1.206 and test loss: 1.280, and it took us: 1.70 seconds.\n",
      "Starting epoch: 83\n",
      "torch.Size([1024, 16, 39, 2])\n",
      "torch.Size([1024, 16, 39, 2])\n",
      "torch.Size([965, 16, 39, 2])\n",
      "About to test the performance on the test set.\n",
      "torch.Size([754, 16, 39, 2])\n",
      "84 train loss: 1.205 and test loss: 1.280, and it took us: 1.73 seconds.\n",
      "Starting epoch: 84\n",
      "torch.Size([1024, 16, 39, 2])\n",
      "torch.Size([1024, 16, 39, 2])\n",
      "torch.Size([965, 16, 39, 2])\n",
      "About to test the performance on the test set.\n",
      "torch.Size([754, 16, 39, 2])\n",
      "85 train loss: 1.204 and test loss: 1.281, and it took us: 1.77 seconds.\n",
      "Starting epoch: 85\n",
      "torch.Size([1024, 16, 39, 2])\n",
      "torch.Size([1024, 16, 39, 2])\n",
      "torch.Size([965, 16, 39, 2])\n",
      "About to test the performance on the test set.\n",
      "torch.Size([754, 16, 39, 2])\n",
      "86 train loss: 1.203 and test loss: 1.279, and it took us: 1.79 seconds.\n",
      "Starting epoch: 86\n",
      "torch.Size([1024, 16, 39, 2])\n",
      "torch.Size([1024, 16, 39, 2])\n",
      "torch.Size([965, 16, 39, 2])\n",
      "About to test the performance on the test set.\n",
      "torch.Size([754, 16, 39, 2])\n",
      "87 train loss: 1.201 and test loss: 1.277, and it took us: 1.68 seconds.\n",
      "Starting epoch: 87\n",
      "torch.Size([1024, 16, 39, 2])\n",
      "torch.Size([1024, 16, 39, 2])\n",
      "torch.Size([965, 16, 39, 2])\n",
      "About to test the performance on the test set.\n",
      "torch.Size([754, 16, 39, 2])\n",
      "88 train loss: 1.200 and test loss: 1.276, and it took us: 1.79 seconds.\n",
      "Starting epoch: 88\n",
      "torch.Size([1024, 16, 39, 2])\n",
      "torch.Size([1024, 16, 39, 2])\n",
      "torch.Size([965, 16, 39, 2])\n",
      "About to test the performance on the test set.\n",
      "torch.Size([754, 16, 39, 2])\n",
      "89 train loss: 1.199 and test loss: 1.277, and it took us: 1.71 seconds.\n",
      "Starting epoch: 89\n",
      "torch.Size([1024, 16, 39, 2])\n",
      "torch.Size([1024, 16, 39, 2])\n",
      "torch.Size([965, 16, 39, 2])\n",
      "About to test the performance on the test set.\n",
      "torch.Size([754, 16, 39, 2])\n",
      "90 train loss: 1.198 and test loss: 1.277, and it took us: 1.90 seconds.\n",
      "Starting epoch: 90\n",
      "torch.Size([1024, 16, 39, 2])\n",
      "torch.Size([1024, 16, 39, 2])\n",
      "torch.Size([965, 16, 39, 2])\n",
      "About to test the performance on the test set.\n",
      "torch.Size([754, 16, 39, 2])\n",
      "91 train loss: 1.197 and test loss: 1.274, and it took us: 1.64 seconds.\n",
      "Starting epoch: 91\n",
      "torch.Size([1024, 16, 39, 2])\n",
      "torch.Size([1024, 16, 39, 2])\n",
      "torch.Size([965, 16, 39, 2])\n",
      "About to test the performance on the test set.\n",
      "torch.Size([754, 16, 39, 2])\n",
      "92 train loss: 1.196 and test loss: 1.274, and it took us: 1.73 seconds.\n",
      "Starting epoch: 92\n",
      "torch.Size([1024, 16, 39, 2])\n",
      "torch.Size([1024, 16, 39, 2])\n",
      "torch.Size([965, 16, 39, 2])\n",
      "About to test the performance on the test set.\n",
      "torch.Size([754, 16, 39, 2])\n",
      "93 train loss: 1.195 and test loss: 1.274, and it took us: 1.76 seconds.\n",
      "Starting epoch: 93\n",
      "torch.Size([1024, 16, 39, 2])\n",
      "torch.Size([1024, 16, 39, 2])\n",
      "torch.Size([965, 16, 39, 2])\n",
      "About to test the performance on the test set.\n",
      "torch.Size([754, 16, 39, 2])\n",
      "94 train loss: 1.194 and test loss: 1.274, and it took us: 1.65 seconds.\n",
      "Starting epoch: 94\n",
      "torch.Size([1024, 16, 39, 2])\n",
      "torch.Size([1024, 16, 39, 2])\n",
      "torch.Size([965, 16, 39, 2])\n",
      "About to test the performance on the test set.\n",
      "torch.Size([754, 16, 39, 2])\n",
      "95 train loss: 1.192 and test loss: 1.273, and it took us: 1.75 seconds.\n",
      "Starting epoch: 95\n",
      "torch.Size([1024, 16, 39, 2])\n",
      "torch.Size([1024, 16, 39, 2])\n",
      "torch.Size([965, 16, 39, 2])\n",
      "About to test the performance on the test set.\n",
      "torch.Size([754, 16, 39, 2])\n",
      "96 train loss: 1.192 and test loss: 1.272, and it took us: 1.84 seconds.\n",
      "Starting epoch: 96\n",
      "torch.Size([1024, 16, 39, 2])\n",
      "torch.Size([1024, 16, 39, 2])\n",
      "torch.Size([965, 16, 39, 2])\n",
      "About to test the performance on the test set.\n",
      "torch.Size([754, 16, 39, 2])\n",
      "97 train loss: 1.191 and test loss: 1.271, and it took us: 1.72 seconds.\n",
      "Starting epoch: 97\n"
     ]
    },
    {
     "name": "stdout",
     "output_type": "stream",
     "text": [
      "torch.Size([1024, 16, 39, 2])\n",
      "torch.Size([1024, 16, 39, 2])\n",
      "torch.Size([965, 16, 39, 2])\n",
      "About to test the performance on the test set.\n",
      "torch.Size([754, 16, 39, 2])\n",
      "98 train loss: 1.190 and test loss: 1.271, and it took us: 1.74 seconds.\n",
      "Starting epoch: 98\n",
      "torch.Size([1024, 16, 39, 2])\n",
      "torch.Size([1024, 16, 39, 2])\n",
      "torch.Size([965, 16, 39, 2])\n",
      "About to test the performance on the test set.\n",
      "torch.Size([754, 16, 39, 2])\n",
      "99 train loss: 1.189 and test loss: 1.271, and it took us: 1.79 seconds.\n",
      "Starting epoch: 99\n",
      "torch.Size([1024, 16, 39, 2])\n",
      "torch.Size([1024, 16, 39, 2])\n",
      "torch.Size([965, 16, 39, 2])\n",
      "About to test the performance on the test set.\n",
      "torch.Size([754, 16, 39, 2])\n",
      "100 train loss: 1.188 and test loss: 1.269, and it took us: 1.70 seconds.\n",
      "Starting epoch: 100\n",
      "torch.Size([1024, 16, 39, 2])\n",
      "torch.Size([1024, 16, 39, 2])\n",
      "torch.Size([965, 16, 39, 2])\n",
      "About to test the performance on the test set.\n",
      "torch.Size([754, 16, 39, 2])\n",
      "101 train loss: 1.187 and test loss: 1.268, and it took us: 1.77 seconds.\n",
      "Finished Training\n"
     ]
    }
   ],
   "source": [
    "#### Training the network on the training dataset\n",
    "for i in range(100):  # loop over the dataset multiple (5) times \n",
    "    epoch+=1\n",
    "    print(\"Starting epoch:\",epoch)\n",
    "    epochLoss=0.0\n",
    "    t0 = time.time()\n",
    "    model.train()\n",
    "    for i, (inputs, labels) in enumerate(trainloader, 0):\n",
    "        #print(\"Loaded\")\n",
    "        #print(inputs.shape)\n",
    "        inputs = inputs.cuda(device)\n",
    "        labels = labels.cuda(device)\n",
    "        #print(\"move to cuda\")\n",
    "        optimizer.zero_grad()\n",
    "        if((i+i)%50==0):\n",
    "            if(i>0):\n",
    "                print('Processed images:',i*trainloader.batch_size,'. Running Timer @ {:.2f}sec.'.format(time.time()-t0))\n",
    "        # forward + backward + optimize\n",
    "        outputs = model(inputs)\n",
    "        #print(\"move through model\")\n",
    "        #print(outputs)\n",
    "        loss = criterion(outputs, labels)\n",
    "        #print(\"loss done\")\n",
    "        loss.backward()\n",
    "        #print(\"backprop\")\n",
    "        optimizer.step()\n",
    "        #print(\"optimize done\")\n",
    "        epochLoss+=loss.item()\n",
    "        \n",
    "    \n",
    "    model.eval()\n",
    "    testLoss=0\n",
    "    print(\"About to test the performance on the test set.\")\n",
    "    with torch.no_grad():\n",
    "        for i, (inputs, labels) in enumerate(testloader, 0):\n",
    "            # get the inputs\n",
    "            inputs = inputs.cuda(device)\n",
    "            labels = labels.cuda(device)\n",
    "            outputs = model(inputs)\n",
    "            loss = criterion(outputs, labels)\n",
    "            testLoss+=loss.item()\n",
    "            if(i%50==0):\n",
    "                if(i>0):\n",
    "                    print('Tested images:',i*testloader.batch_size,'. Running Timer @ {:.2f}sec.'.format(time.time()-t0))\n",
    "\n",
    "\n",
    "    train_epoch_losses.append(epochLoss/len(trainloader))\n",
    "    test_epoch_losses.append(testLoss/len(testloader))\n",
    "    EpochLength = time.time()-t0\n",
    "    print('{} train loss: {:.3f} and test loss: {:.3f}, and it took us: {:.2f} seconds.'.format (epoch + 1, epochLoss / len(trainloader),testLoss/len(testloader),EpochLength))  # DAVID CHanged it to 1000 from 2000 not sure if thats totally done\n",
    "print('Finished Training')\n"
   ]
  },
  {
   "cell_type": "code",
   "execution_count": null,
   "metadata": {},
   "outputs": [],
   "source": []
  },
  {
   "cell_type": "markdown",
   "metadata": {},
   "source": [
    "### Post training analytics"
   ]
  },
  {
   "cell_type": "markdown",
   "metadata": {},
   "source": [
    "After the training has finished, save information about the training"
   ]
  },
  {
   "cell_type": "code",
   "execution_count": null,
   "metadata": {
    "ExecuteTime": {
     "end_time": "2020-08-02T20:44:08.058441Z",
     "start_time": "2020-08-02T20:44:07.767189Z"
    }
   },
   "outputs": [],
   "source": [
    "# saving the learnd model in file that can be loaded in for inference\n",
    "torch.save({\n",
    "    'model':model.state_dict(),\n",
    "    'classes':classes,\n",
    "    'resolution':224,\n",
    "    'modelType':\"resnet18\" # <= If you try out different models make sure to change this too\n",
    "},\"../models/CatDogResNet.pth\") # <=Edit file name here "
   ]
  },
  {
   "cell_type": "markdown",
   "metadata": {},
   "source": [
    "Display how the traing and test loss progressed over successive epochs"
   ]
  },
  {
   "cell_type": "code",
   "execution_count": 14,
   "metadata": {
    "ExecuteTime": {
     "end_time": "2020-08-02T20:44:09.700714Z",
     "start_time": "2020-08-02T20:44:09.070817Z"
    }
   },
   "outputs": [
    {
     "data": {
      "image/png": "[encoded data removed]",
      "text/plain": [
       "<Figure size 432x288 with 1 Axes>"
      ]
     },
     "metadata": {
      "needs_background": "light"
     },
     "output_type": "display_data"
    }
   ],
   "source": [
    "#Displaying how the loss progresses over time.\n",
    "plt.plot(train_epoch_losses, label='Training Loss',c='r')\n",
    "plt.plot(test_epoch_losses, label='Test Loss',c='g')\n",
    "plt.legend()\n",
    "plt.show()"
   ]
  },
  {
   "cell_type": "markdown",
   "metadata": {},
   "source": [
    "Show spectagrams, Predicted and Actual labels."
   ]
  },
  {
   "cell_type": "code",
   "execution_count": null,
   "metadata": {
    "ExecuteTime": {
     "end_time": "2020-08-02T20:44:12.759024Z",
     "start_time": "2020-08-02T20:44:12.697637Z"
    },
    "scrolled": true
   },
   "outputs": [],
   "source": [
    "# Print predicted and acual labels for Spectragrams\n",
    "model.eval()\n",
    "dataiter = iter(testloader)\n",
    "images, labels = dataiter.next()\n",
    "images, labels = images.to(device), labels.to(device)\n",
    "outputs = model(images)\n",
    "_, predicted = torch.max(outputs, 1)\n",
    "for i in range(trainloader.batch_size):\n",
    "    imshow(images[i].cpu())\n",
    "    print('GroundTruth: ',classes[labels[i]])\n",
    "    print('Predicted: ',  classes[predicted[i]])\n"
   ]
  },
  {
   "cell_type": "markdown",
   "metadata": {},
   "source": [
    "Print accuracy of test predictions for each label"
   ]
  },
  {
   "cell_type": "code",
   "execution_count": 15,
   "metadata": {
    "ExecuteTime": {
     "end_time": "2020-08-02T20:44:15.905168Z",
     "start_time": "2020-08-02T20:44:14.974999Z"
    }
   },
   "outputs": [
    {
     "name": "stdout",
     "output_type": "stream",
     "text": [
      "torch.Size([754, 16, 39, 2])\n",
      "[[136  34  13  19]\n",
      " [ 30 112   8  23]\n",
      " [ 67  72  27  46]\n",
      " [ 29  29  25  84]]\n",
      "Accuracy of street_music : 67 %\n",
      "Accuracy of siren : 64 %\n",
      "Accuracy of children_playing : 12 %\n",
      "Accuracy of dog_bark : 50 %\n",
      "Average percentage:\t48%\n"
     ]
    }
   ],
   "source": [
    "# Network analytics\n",
    "class_correct = list(0. for i in range(len(classes)))\n",
    "class_total = list(0. for i in range(len(classes)))\n",
    "model.eval()\n",
    "allLabels=[]\n",
    "allPrediction=[]\n",
    "with torch.no_grad():\n",
    "    for data in testloader:\n",
    "        inputs, labels = data\n",
    "        inputs = inputs.cuda(device)\n",
    "        labels = labels.cuda(device)\n",
    "        outputs = model(inputs)\n",
    "        _, predicted = torch.max(outputs, 1)\n",
    "        c = (predicted == labels).squeeze()\n",
    "        if (c.dim()==0):\n",
    "            continue\n",
    "        for i in range(testloader.batch_size):\n",
    "            if(len(labels)<=i):\n",
    "                continue;\n",
    "            label = labels[i]\n",
    "            allLabels.append(labels[i].to('cpu').numpy())\n",
    "            allPrediction.append(predicted[i].to('cpu').numpy())\n",
    "            #print (c.shape)\n",
    "            if(testloader.batch_size>1):\n",
    "                class_correct[label] += c[i].item()\n",
    "            else:\n",
    "                class_correct[label] += c.item()\n",
    "            class_total[label] += 1\n",
    "\n",
    "print(confusion_matrix(allLabels, allPrediction))\n",
    "averagePercentage = []\n",
    "for i in range(len(classes)):\n",
    "    print('Accuracy of %5s : %2d %%' % (\n",
    "        classes[i], 100 * class_correct[i] / class_total[i]))\n",
    "    averagePercentage.append( 100 * class_correct[i] / class_total[i])\n",
    "print(\"Average percentage:\\t%2d%%\"%(np.mean(averagePercentage)))"
   ]
  },
  {
   "cell_type": "markdown",
   "metadata": {},
   "source": []
  },
  {
   "cell_type": "code",
   "execution_count": null,
   "metadata": {},
   "outputs": [],
   "source": [
    "class Model(torch.nn.Module):\n",
    "    def __init__(self,classCount):\n",
    "        super(Model,self).__init__()\n",
    "        \n",
    "        self.mel = nnAudio.Spectrogram.MelSpectrogram(n_fft=2048, n_mels=64, trainable_mel=True, trainable_STFT=True).cuda(device) # Using device='cuda:0'\n",
    "\n",
    "        self.CNN_layer1 = torch.nn.Conv2d(1,1, kernel_size=(16,16)).cuda(device)\n",
    "        self.CNN_layer2 = torch.nn.Conv2d(1,1, kernel_size=(4,4)).cuda(device)\n",
    "        \n",
    "        self.regressor = torch.nn.Linear(46*26,classCount).cuda(device)\n",
    "\n",
    "    def forward(self, x):\n",
    "        #print(x.shape)\n",
    "        x = self.mel(x)\n",
    "        x = self.CNN_layer1(x.unsqueeze(1))\n",
    "        x = self.CNN_layer2(x)\n",
    "        #print(x.shape)\n",
    "        x = x.view(x.data.size()[0], 46*26)\n",
    "        x=torch.relu(x)\n",
    "        #print(x.shape)\n",
    "        x = self.regressor(torch.relu(x))\n",
    "        return torch.sigmoid(x)"
   ]
  },
  {
   "cell_type": "code",
   "execution_count": null,
   "metadata": {},
   "outputs": [],
   "source": [
    "'''\n",
    "[[118  11  39  26]\n",
    " [ 12  81  55  20]\n",
    " [ 39  15 128  28]\n",
    " [ 25   5  22 159]]\n",
    "Accuracy of street_music : 60 %\n",
    "Accuracy of siren : 48 %\n",
    "Accuracy of children_playing : 60 %\n",
    "Accuracy of air_conditioner : 75 %\n",
    "Average percentage:\t61%\n",
    "'''\n",
    "class Model(torch.nn.Module):\n",
    "    def __init__(self,classCount):\n",
    "        super(Model,self).__init__()\n",
    "        \n",
    "        self.mel = nnAudio.Spectrogram.MelSpectrogram(n_fft=1024, n_mels=128, trainable_mel=True, trainable_STFT=True).cuda(device) # Using device='cuda:0'\n",
    "        torch.nn.init.xavier_uniform_(self.mel.mel_basis)\n",
    "        self.CNN_layer1 = torch.nn.Conv2d(1,8, kernel_size=(16,16)).cuda(device)\n",
    "        self.CNN_layer2 = torch.nn.Conv2d(8,16, kernel_size=(16,16)).cuda(device)\n",
    "        \n",
    "        self.fc1 = torch.nn.Linear(16* 98* 14,128).cuda(device)\n",
    "        self.fc2 = torch.nn.Linear(128,classCount).cuda(device)\n",
    "\n",
    "    def forward(self, x):\n",
    "        x = self.mel(x)\n",
    "        #print(x.shape)\n",
    "        x = self.CNN_layer1(x.unsqueeze(1))\n",
    "        x = self.CNN_layer2(x)\n",
    "\n",
    "       # print(x.shape)\n",
    "        x = x.view(x.data.size()[0],16* 98* 14)\n",
    "        x = self.fc1(torch.relu(x))\n",
    "        x = self.fc2(torch.relu(x))\n",
    "        return torch.softmax(x,dim=1)"
   ]
  }
 ],
 "metadata": {
  "kernelspec": {
   "display_name": "Python 3",
   "language": "python",
   "name": "python3"
  },
  "language_info": {
   "codemirror_mode": {
    "name": "ipython",
    "version": 3
   },
   "file_extension": ".py",
   "mimetype": "text/x-python",
   "name": "python",
   "nbconvert_exporter": "python",
   "pygments_lexer": "ipython3",
   "version": "3.8.3"
  },
  "toc": {
   "base_numbering": 1,
   "nav_menu": {},
   "number_sections": true,
   "sideBar": true,
   "skip_h1_title": false,
   "title_cell": "Table of Contents",
   "title_sidebar": "Contents",
   "toc_cell": false,
   "toc_position": {},
   "toc_section_display": true,
   "toc_window_display": false
  }
 },
 "nbformat": 4,
 "nbformat_minor": 2
}
